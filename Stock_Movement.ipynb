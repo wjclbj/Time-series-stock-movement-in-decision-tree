{
 "cells": [
  {
   "cell_type": "code",
   "execution_count": 1,
   "metadata": {},
   "outputs": [
    {
     "name": "stdout",
     "output_type": "stream",
     "text": [
      "Requirement already satisfied: yfinance in /opt/conda/lib/python3.8/site-packages (0.1.55)\n",
      "Requirement already satisfied: pandas>=0.24 in /opt/conda/lib/python3.8/site-packages (from yfinance) (1.1.3)\n",
      "Requirement already satisfied: lxml>=4.5.1 in /opt/conda/lib/python3.8/site-packages (from yfinance) (4.6.1)\n",
      "Requirement already satisfied: multitasking>=0.0.7 in /opt/conda/lib/python3.8/site-packages (from yfinance) (0.0.9)\n",
      "Requirement already satisfied: numpy>=1.15 in /opt/conda/lib/python3.8/site-packages (from yfinance) (1.19.2)\n",
      "Requirement already satisfied: requests>=2.20 in /opt/conda/lib/python3.8/site-packages (from yfinance) (2.24.0)\n",
      "Requirement already satisfied: python-dateutil>=2.7.3 in /opt/conda/lib/python3.8/site-packages (from pandas>=0.24->yfinance) (2.8.1)\n",
      "Requirement already satisfied: pytz>=2017.2 in /opt/conda/lib/python3.8/site-packages (from pandas>=0.24->yfinance) (2020.1)\n",
      "Requirement already satisfied: chardet<4,>=3.0.2 in /opt/conda/lib/python3.8/site-packages (from requests>=2.20->yfinance) (3.0.4)\n",
      "Requirement already satisfied: urllib3!=1.25.0,!=1.25.1,<1.26,>=1.21.1 in /opt/conda/lib/python3.8/site-packages (from requests>=2.20->yfinance) (1.25.11)\n",
      "Requirement already satisfied: idna<3,>=2.5 in /opt/conda/lib/python3.8/site-packages (from requests>=2.20->yfinance) (2.10)\n",
      "Requirement already satisfied: certifi>=2017.4.17 in /opt/conda/lib/python3.8/site-packages (from requests>=2.20->yfinance) (2020.6.20)\n",
      "Requirement already satisfied: six>=1.5 in /opt/conda/lib/python3.8/site-packages (from python-dateutil>=2.7.3->pandas>=0.24->yfinance) (1.15.0)\n"
     ]
    }
   ],
   "source": [
    "!pip install yfinance"
   ]
  },
  {
   "cell_type": "code",
   "execution_count": 2,
   "metadata": {},
   "outputs": [],
   "source": [
    "import pandas as pd\n",
    "import numpy as np\n",
    "from datetime import datetime\n",
    "#from pandas_datareader import data as web\n",
    "import yfinance as yf\n",
    "import matplotlib.pyplot as plt\n",
    "plt.style.use('ggplot')"
   ]
  },
  {
   "cell_type": "markdown",
   "metadata": {},
   "source": [
    "## Prepare dataset"
   ]
  },
  {
   "cell_type": "code",
   "execution_count": 3,
   "metadata": {},
   "outputs": [],
   "source": [
    "assets = ['MAXR.TO']"
   ]
  },
  {
   "cell_type": "code",
   "execution_count": 4,
   "metadata": {},
   "outputs": [
    {
     "name": "stdout",
     "output_type": "stream",
     "text": [
      "[*********************100%***********************]  1 of 1 completed\n"
     ]
    }
   ],
   "source": [
    "df = yf.download(assets, period=\"max\")"
   ]
  },
  {
   "cell_type": "code",
   "execution_count": 5,
   "metadata": {
    "scrolled": true
   },
   "outputs": [
    {
     "data": {
      "text/html": [
       "<div>\n",
       "<style scoped>\n",
       "    .dataframe tbody tr th:only-of-type {\n",
       "        vertical-align: middle;\n",
       "    }\n",
       "\n",
       "    .dataframe tbody tr th {\n",
       "        vertical-align: top;\n",
       "    }\n",
       "\n",
       "    .dataframe thead th {\n",
       "        text-align: right;\n",
       "    }\n",
       "</style>\n",
       "<table border=\"1\" class=\"dataframe\">\n",
       "  <thead>\n",
       "    <tr style=\"text-align: right;\">\n",
       "      <th></th>\n",
       "      <th>Open</th>\n",
       "      <th>High</th>\n",
       "      <th>Low</th>\n",
       "      <th>Close</th>\n",
       "      <th>Adj Close</th>\n",
       "      <th>Volume</th>\n",
       "    </tr>\n",
       "    <tr>\n",
       "      <th>Date</th>\n",
       "      <th></th>\n",
       "      <th></th>\n",
       "      <th></th>\n",
       "      <th></th>\n",
       "      <th></th>\n",
       "      <th></th>\n",
       "    </tr>\n",
       "  </thead>\n",
       "  <tbody>\n",
       "    <tr>\n",
       "      <th>2000-07-11</th>\n",
       "      <td>14.000000</td>\n",
       "      <td>15.350000</td>\n",
       "      <td>13.950000</td>\n",
       "      <td>15.200000</td>\n",
       "      <td>12.732615</td>\n",
       "      <td>582500</td>\n",
       "    </tr>\n",
       "    <tr>\n",
       "      <th>2000-07-12</th>\n",
       "      <td>15.650000</td>\n",
       "      <td>15.650000</td>\n",
       "      <td>14.800000</td>\n",
       "      <td>15.150000</td>\n",
       "      <td>12.690730</td>\n",
       "      <td>227000</td>\n",
       "    </tr>\n",
       "    <tr>\n",
       "      <th>2000-07-13</th>\n",
       "      <td>15.250000</td>\n",
       "      <td>15.250000</td>\n",
       "      <td>14.500000</td>\n",
       "      <td>14.750000</td>\n",
       "      <td>12.355663</td>\n",
       "      <td>125400</td>\n",
       "    </tr>\n",
       "    <tr>\n",
       "      <th>2000-07-14</th>\n",
       "      <td>14.700000</td>\n",
       "      <td>15.000000</td>\n",
       "      <td>14.700000</td>\n",
       "      <td>15.000000</td>\n",
       "      <td>12.565082</td>\n",
       "      <td>35900</td>\n",
       "    </tr>\n",
       "    <tr>\n",
       "      <th>2000-07-17</th>\n",
       "      <td>15.050000</td>\n",
       "      <td>15.250000</td>\n",
       "      <td>15.050000</td>\n",
       "      <td>15.200000</td>\n",
       "      <td>12.732615</td>\n",
       "      <td>61000</td>\n",
       "    </tr>\n",
       "    <tr>\n",
       "      <th>...</th>\n",
       "      <td>...</td>\n",
       "      <td>...</td>\n",
       "      <td>...</td>\n",
       "      <td>...</td>\n",
       "      <td>...</td>\n",
       "      <td>...</td>\n",
       "    </tr>\n",
       "    <tr>\n",
       "      <th>2021-02-02</th>\n",
       "      <td>59.020000</td>\n",
       "      <td>59.450001</td>\n",
       "      <td>56.029999</td>\n",
       "      <td>56.450001</td>\n",
       "      <td>56.450001</td>\n",
       "      <td>134600</td>\n",
       "    </tr>\n",
       "    <tr>\n",
       "      <th>2021-02-03</th>\n",
       "      <td>56.459999</td>\n",
       "      <td>58.389999</td>\n",
       "      <td>55.840000</td>\n",
       "      <td>58.389999</td>\n",
       "      <td>58.389999</td>\n",
       "      <td>120300</td>\n",
       "    </tr>\n",
       "    <tr>\n",
       "      <th>2021-02-04</th>\n",
       "      <td>60.139999</td>\n",
       "      <td>63.980000</td>\n",
       "      <td>59.169998</td>\n",
       "      <td>62.709999</td>\n",
       "      <td>62.709999</td>\n",
       "      <td>175800</td>\n",
       "    </tr>\n",
       "    <tr>\n",
       "      <th>2021-02-05</th>\n",
       "      <td>62.630001</td>\n",
       "      <td>66.070000</td>\n",
       "      <td>62.000000</td>\n",
       "      <td>65.790001</td>\n",
       "      <td>65.790001</td>\n",
       "      <td>135100</td>\n",
       "    </tr>\n",
       "    <tr>\n",
       "      <th>2021-02-08</th>\n",
       "      <td>66.779999</td>\n",
       "      <td>67.440002</td>\n",
       "      <td>64.010002</td>\n",
       "      <td>66.989998</td>\n",
       "      <td>66.989998</td>\n",
       "      <td>159846</td>\n",
       "    </tr>\n",
       "  </tbody>\n",
       "</table>\n",
       "<p>5168 rows × 6 columns</p>\n",
       "</div>"
      ],
      "text/plain": [
       "                 Open       High        Low      Close  Adj Close  Volume\n",
       "Date                                                                     \n",
       "2000-07-11  14.000000  15.350000  13.950000  15.200000  12.732615  582500\n",
       "2000-07-12  15.650000  15.650000  14.800000  15.150000  12.690730  227000\n",
       "2000-07-13  15.250000  15.250000  14.500000  14.750000  12.355663  125400\n",
       "2000-07-14  14.700000  15.000000  14.700000  15.000000  12.565082   35900\n",
       "2000-07-17  15.050000  15.250000  15.050000  15.200000  12.732615   61000\n",
       "...               ...        ...        ...        ...        ...     ...\n",
       "2021-02-02  59.020000  59.450001  56.029999  56.450001  56.450001  134600\n",
       "2021-02-03  56.459999  58.389999  55.840000  58.389999  58.389999  120300\n",
       "2021-02-04  60.139999  63.980000  59.169998  62.709999  62.709999  175800\n",
       "2021-02-05  62.630001  66.070000  62.000000  65.790001  65.790001  135100\n",
       "2021-02-08  66.779999  67.440002  64.010002  66.989998  66.989998  159846\n",
       "\n",
       "[5168 rows x 6 columns]"
      ]
     },
     "execution_count": 5,
     "metadata": {},
     "output_type": "execute_result"
    }
   ],
   "source": [
    "df"
   ]
  },
  {
   "cell_type": "code",
   "execution_count": 6,
   "metadata": {},
   "outputs": [],
   "source": [
    "# Create SMA and EMA indicators\n",
    "def SMA (table, period=30, col='Adj Close'):\n",
    "    return table[col].rolling(window=period).mean()\n",
    "\n",
    "def EMA(table, period=24, col='Adj Close'):\n",
    "    return table[col].ewm(span=period, adjust=False).mean()"
   ]
  },
  {
   "cell_type": "code",
   "execution_count": 7,
   "metadata": {},
   "outputs": [],
   "source": [
    "# Create a functin to calculate MACD\n",
    "def MACD(table, period_l=26, period_s=12, period_signal=9, col='Adj Close'):\n",
    "    ShortEMA = EMA(table, period=period_s, col=col) # Short term EMA\n",
    "    LongEMA = EMA(table, period=period_l, col=col) # long term EMA\n",
    "    \n",
    "    # Calculate and store the MACD into the df\n",
    "    table['MACD'] = ShortEMA - LongEMA\n",
    "    \n",
    "    # Calculate and store the signal line into the df\n",
    "    table['signal_Line'] = EMA(table, period=period_signal, col='MACD')\n",
    "    \n",
    "    return table"
   ]
  },
  {
   "cell_type": "code",
   "execution_count": 8,
   "metadata": {},
   "outputs": [],
   "source": [
    "# Create a function to calculate the Relative Strength Index (RSI)\n",
    "def RSI(table, period=14, col='Adj Close'):\n",
    "    delta = table[col].diff(1)\n",
    "    delta = delta.dropna()\n",
    "    up = delta.copy()\n",
    "    down = delta.copy()\n",
    "    up[up < 0] = 0\n",
    "    down[down > 0] = 0\n",
    "    table['up'] = up\n",
    "    table['down'] = down\n",
    "    Avg_Gain = SMA(table, period, col='up')\n",
    "    Avg_Loss = abs(SMA(table, period, col='down'))\n",
    "    RS = Avg_Gain / Avg_Loss\n",
    "    RSI = 100.0 - (100.0 / (1.0+RS))\n",
    "    table['RSI'] = RSI\n",
    "    \n",
    "    return table"
   ]
  },
  {
   "cell_type": "code",
   "execution_count": 9,
   "metadata": {
    "scrolled": true
   },
   "outputs": [],
   "source": [
    "# Add the indicators to the data set\n",
    "MACD(df)\n",
    "RSI(df)\n",
    "df['SMA'] = SMA(df)\n",
    "df['EMA'] = EMA(df)"
   ]
  },
  {
   "cell_type": "code",
   "execution_count": 10,
   "metadata": {},
   "outputs": [],
   "source": [
    "# Create a target col\n",
    "df['Target'] = np.where(df['Adj Close'].shift(-1) > df['Adj Close'], 1, 0)"
   ]
  },
  {
   "cell_type": "code",
   "execution_count": 11,
   "metadata": {},
   "outputs": [],
   "source": [
    "# Remove Nulls\n",
    "df = df.dropna()"
   ]
  },
  {
   "cell_type": "code",
   "execution_count": 12,
   "metadata": {
    "scrolled": true
   },
   "outputs": [
    {
     "data": {
      "text/html": [
       "<div>\n",
       "<style scoped>\n",
       "    .dataframe tbody tr th:only-of-type {\n",
       "        vertical-align: middle;\n",
       "    }\n",
       "\n",
       "    .dataframe tbody tr th {\n",
       "        vertical-align: top;\n",
       "    }\n",
       "\n",
       "    .dataframe thead th {\n",
       "        text-align: right;\n",
       "    }\n",
       "</style>\n",
       "<table border=\"1\" class=\"dataframe\">\n",
       "  <thead>\n",
       "    <tr style=\"text-align: right;\">\n",
       "      <th></th>\n",
       "      <th>Open</th>\n",
       "      <th>High</th>\n",
       "      <th>Low</th>\n",
       "      <th>Close</th>\n",
       "      <th>Adj Close</th>\n",
       "      <th>Volume</th>\n",
       "      <th>MACD</th>\n",
       "      <th>signal_Line</th>\n",
       "      <th>up</th>\n",
       "      <th>down</th>\n",
       "      <th>RSI</th>\n",
       "      <th>SMA</th>\n",
       "      <th>EMA</th>\n",
       "      <th>Target</th>\n",
       "    </tr>\n",
       "    <tr>\n",
       "      <th>Date</th>\n",
       "      <th></th>\n",
       "      <th></th>\n",
       "      <th></th>\n",
       "      <th></th>\n",
       "      <th></th>\n",
       "      <th></th>\n",
       "      <th></th>\n",
       "      <th></th>\n",
       "      <th></th>\n",
       "      <th></th>\n",
       "      <th></th>\n",
       "      <th></th>\n",
       "      <th></th>\n",
       "      <th></th>\n",
       "    </tr>\n",
       "  </thead>\n",
       "  <tbody>\n",
       "    <tr>\n",
       "      <th>2000-08-22</th>\n",
       "      <td>17.299999</td>\n",
       "      <td>17.500000</td>\n",
       "      <td>17.150000</td>\n",
       "      <td>17.500000</td>\n",
       "      <td>14.659263</td>\n",
       "      <td>2400</td>\n",
       "      <td>0.222391</td>\n",
       "      <td>0.280577</td>\n",
       "      <td>0.209416</td>\n",
       "      <td>0.000000</td>\n",
       "      <td>52.205878</td>\n",
       "      <td>14.407960</td>\n",
       "      <td>14.421317</td>\n",
       "      <td>0</td>\n",
       "    </tr>\n",
       "    <tr>\n",
       "      <th>2000-08-23</th>\n",
       "      <td>17.500000</td>\n",
       "      <td>17.500000</td>\n",
       "      <td>17.000000</td>\n",
       "      <td>17.250000</td>\n",
       "      <td>14.449846</td>\n",
       "      <td>7400</td>\n",
       "      <td>0.193497</td>\n",
       "      <td>0.263161</td>\n",
       "      <td>0.000000</td>\n",
       "      <td>-0.209416</td>\n",
       "      <td>59.663912</td>\n",
       "      <td>14.465201</td>\n",
       "      <td>14.423600</td>\n",
       "      <td>1</td>\n",
       "    </tr>\n",
       "    <tr>\n",
       "      <th>2000-08-24</th>\n",
       "      <td>17.900000</td>\n",
       "      <td>17.900000</td>\n",
       "      <td>17.450001</td>\n",
       "      <td>17.500000</td>\n",
       "      <td>14.659263</td>\n",
       "      <td>7600</td>\n",
       "      <td>0.185359</td>\n",
       "      <td>0.247601</td>\n",
       "      <td>0.209416</td>\n",
       "      <td>0.000000</td>\n",
       "      <td>63.865569</td>\n",
       "      <td>14.530819</td>\n",
       "      <td>14.442453</td>\n",
       "      <td>0</td>\n",
       "    </tr>\n",
       "    <tr>\n",
       "      <th>2000-08-25</th>\n",
       "      <td>17.049999</td>\n",
       "      <td>17.200001</td>\n",
       "      <td>17.000000</td>\n",
       "      <td>17.049999</td>\n",
       "      <td>14.282308</td>\n",
       "      <td>5800</td>\n",
       "      <td>0.146801</td>\n",
       "      <td>0.227441</td>\n",
       "      <td>0.000000</td>\n",
       "      <td>-0.376955</td>\n",
       "      <td>57.024772</td>\n",
       "      <td>14.595041</td>\n",
       "      <td>14.429641</td>\n",
       "      <td>1</td>\n",
       "    </tr>\n",
       "    <tr>\n",
       "      <th>2000-08-28</th>\n",
       "      <td>17.450001</td>\n",
       "      <td>17.450001</td>\n",
       "      <td>17.000000</td>\n",
       "      <td>17.150000</td>\n",
       "      <td>14.366076</td>\n",
       "      <td>3200</td>\n",
       "      <td>0.121601</td>\n",
       "      <td>0.206273</td>\n",
       "      <td>0.083769</td>\n",
       "      <td>0.000000</td>\n",
       "      <td>50.943415</td>\n",
       "      <td>14.655074</td>\n",
       "      <td>14.424556</td>\n",
       "      <td>0</td>\n",
       "    </tr>\n",
       "    <tr>\n",
       "      <th>...</th>\n",
       "      <td>...</td>\n",
       "      <td>...</td>\n",
       "      <td>...</td>\n",
       "      <td>...</td>\n",
       "      <td>...</td>\n",
       "      <td>...</td>\n",
       "      <td>...</td>\n",
       "      <td>...</td>\n",
       "      <td>...</td>\n",
       "      <td>...</td>\n",
       "      <td>...</td>\n",
       "      <td>...</td>\n",
       "      <td>...</td>\n",
       "      <td>...</td>\n",
       "    </tr>\n",
       "    <tr>\n",
       "      <th>2021-02-02</th>\n",
       "      <td>59.020000</td>\n",
       "      <td>59.450001</td>\n",
       "      <td>56.029999</td>\n",
       "      <td>56.450001</td>\n",
       "      <td>56.450001</td>\n",
       "      <td>134600</td>\n",
       "      <td>2.972575</td>\n",
       "      <td>4.196961</td>\n",
       "      <td>0.340000</td>\n",
       "      <td>0.000000</td>\n",
       "      <td>57.355024</td>\n",
       "      <td>52.916333</td>\n",
       "      <td>55.106539</td>\n",
       "      <td>1</td>\n",
       "    </tr>\n",
       "    <tr>\n",
       "      <th>2021-02-03</th>\n",
       "      <td>56.459999</td>\n",
       "      <td>58.389999</td>\n",
       "      <td>55.840000</td>\n",
       "      <td>58.389999</td>\n",
       "      <td>58.389999</td>\n",
       "      <td>120300</td>\n",
       "      <td>2.816078</td>\n",
       "      <td>3.920784</td>\n",
       "      <td>1.939999</td>\n",
       "      <td>0.000000</td>\n",
       "      <td>60.307623</td>\n",
       "      <td>53.426333</td>\n",
       "      <td>55.369216</td>\n",
       "      <td>1</td>\n",
       "    </tr>\n",
       "    <tr>\n",
       "      <th>2021-02-04</th>\n",
       "      <td>60.139999</td>\n",
       "      <td>63.980000</td>\n",
       "      <td>59.169998</td>\n",
       "      <td>62.709999</td>\n",
       "      <td>62.709999</td>\n",
       "      <td>175800</td>\n",
       "      <td>3.005990</td>\n",
       "      <td>3.737825</td>\n",
       "      <td>4.320000</td>\n",
       "      <td>0.000000</td>\n",
       "      <td>55.055888</td>\n",
       "      <td>54.089333</td>\n",
       "      <td>55.956479</td>\n",
       "      <td>1</td>\n",
       "    </tr>\n",
       "    <tr>\n",
       "      <th>2021-02-05</th>\n",
       "      <td>62.630001</td>\n",
       "      <td>66.070000</td>\n",
       "      <td>62.000000</td>\n",
       "      <td>65.790001</td>\n",
       "      <td>65.790001</td>\n",
       "      <td>135100</td>\n",
       "      <td>3.366223</td>\n",
       "      <td>3.663505</td>\n",
       "      <td>3.080002</td>\n",
       "      <td>0.000000</td>\n",
       "      <td>54.938756</td>\n",
       "      <td>54.819666</td>\n",
       "      <td>56.743161</td>\n",
       "      <td>1</td>\n",
       "    </tr>\n",
       "    <tr>\n",
       "      <th>2021-02-08</th>\n",
       "      <td>66.779999</td>\n",
       "      <td>67.440002</td>\n",
       "      <td>64.010002</td>\n",
       "      <td>66.989998</td>\n",
       "      <td>66.989998</td>\n",
       "      <td>159846</td>\n",
       "      <td>3.705822</td>\n",
       "      <td>3.671968</td>\n",
       "      <td>1.199997</td>\n",
       "      <td>0.000000</td>\n",
       "      <td>45.714279</td>\n",
       "      <td>55.608666</td>\n",
       "      <td>57.562908</td>\n",
       "      <td>0</td>\n",
       "    </tr>\n",
       "  </tbody>\n",
       "</table>\n",
       "<p>5139 rows × 14 columns</p>\n",
       "</div>"
      ],
      "text/plain": [
       "                 Open       High        Low      Close  Adj Close  Volume  \\\n",
       "Date                                                                        \n",
       "2000-08-22  17.299999  17.500000  17.150000  17.500000  14.659263    2400   \n",
       "2000-08-23  17.500000  17.500000  17.000000  17.250000  14.449846    7400   \n",
       "2000-08-24  17.900000  17.900000  17.450001  17.500000  14.659263    7600   \n",
       "2000-08-25  17.049999  17.200001  17.000000  17.049999  14.282308    5800   \n",
       "2000-08-28  17.450001  17.450001  17.000000  17.150000  14.366076    3200   \n",
       "...               ...        ...        ...        ...        ...     ...   \n",
       "2021-02-02  59.020000  59.450001  56.029999  56.450001  56.450001  134600   \n",
       "2021-02-03  56.459999  58.389999  55.840000  58.389999  58.389999  120300   \n",
       "2021-02-04  60.139999  63.980000  59.169998  62.709999  62.709999  175800   \n",
       "2021-02-05  62.630001  66.070000  62.000000  65.790001  65.790001  135100   \n",
       "2021-02-08  66.779999  67.440002  64.010002  66.989998  66.989998  159846   \n",
       "\n",
       "                MACD  signal_Line        up      down        RSI        SMA  \\\n",
       "Date                                                                          \n",
       "2000-08-22  0.222391     0.280577  0.209416  0.000000  52.205878  14.407960   \n",
       "2000-08-23  0.193497     0.263161  0.000000 -0.209416  59.663912  14.465201   \n",
       "2000-08-24  0.185359     0.247601  0.209416  0.000000  63.865569  14.530819   \n",
       "2000-08-25  0.146801     0.227441  0.000000 -0.376955  57.024772  14.595041   \n",
       "2000-08-28  0.121601     0.206273  0.083769  0.000000  50.943415  14.655074   \n",
       "...              ...          ...       ...       ...        ...        ...   \n",
       "2021-02-02  2.972575     4.196961  0.340000  0.000000  57.355024  52.916333   \n",
       "2021-02-03  2.816078     3.920784  1.939999  0.000000  60.307623  53.426333   \n",
       "2021-02-04  3.005990     3.737825  4.320000  0.000000  55.055888  54.089333   \n",
       "2021-02-05  3.366223     3.663505  3.080002  0.000000  54.938756  54.819666   \n",
       "2021-02-08  3.705822     3.671968  1.199997  0.000000  45.714279  55.608666   \n",
       "\n",
       "                  EMA  Target  \n",
       "Date                           \n",
       "2000-08-22  14.421317       0  \n",
       "2000-08-23  14.423600       1  \n",
       "2000-08-24  14.442453       0  \n",
       "2000-08-25  14.429641       1  \n",
       "2000-08-28  14.424556       0  \n",
       "...               ...     ...  \n",
       "2021-02-02  55.106539       1  \n",
       "2021-02-03  55.369216       1  \n",
       "2021-02-04  55.956479       1  \n",
       "2021-02-05  56.743161       1  \n",
       "2021-02-08  57.562908       0  \n",
       "\n",
       "[5139 rows x 14 columns]"
      ]
     },
     "execution_count": 12,
     "metadata": {},
     "output_type": "execute_result"
    }
   ],
   "source": [
    "df"
   ]
  },
  {
   "cell_type": "code",
   "execution_count": 13,
   "metadata": {},
   "outputs": [],
   "source": [
    "from sklearn.model_selection import train_test_split\n",
    "from sklearn.tree import DecisionTreeClassifier"
   ]
  },
  {
   "cell_type": "code",
   "execution_count": 14,
   "metadata": {
    "scrolled": true
   },
   "outputs": [],
   "source": [
    "# Build Xs and Y\n",
    "col_kept = ['Adj Close', 'MACD', 'signal_Line', 'RSI', 'SMA', 'EMA', 'Volume']\n",
    "X = df[col_kept].values\n",
    "Y = df['Target'].values\n",
    "# Split the train/test\n",
    "X_train, X_test, Y_train, Y_test = train_test_split(X, Y, test_size = 0.2, shuffle=False)"
   ]
  },
  {
   "cell_type": "markdown",
   "metadata": {},
   "source": [
    "## First, try Decision Tree"
   ]
  },
  {
   "cell_type": "code",
   "execution_count": 15,
   "metadata": {},
   "outputs": [],
   "source": [
    "# Decision Tree classifier\n",
    "tree = DecisionTreeClassifier(random_state=0, \n",
    "                              min_impurity_decrease = 0.00001,\n",
    "                              criterion='entropy').fit(X_train, Y_train)\n",
    "path = tree.cost_complexity_pruning_path(X_train, Y_train)\n",
    "ccp_alphas, impurities = path.ccp_alphas, path.impurities"
   ]
  },
  {
   "cell_type": "markdown",
   "metadata": {},
   "source": [
    " Cost complexity pruning is to control the size of a tree. In DecisionTreeClassifier, this pruning technique is parameterized by the cost complexity parameter, ccp_alpha. Greater values of ccp_alpha increase the number of nodes pruned. Here we only show the effect of ccp_alpha on regularizing the trees and how to choose a ccp_alpha based on validation scores."
   ]
  },
  {
   "cell_type": "code",
   "execution_count": 16,
   "metadata": {},
   "outputs": [
    {
     "data": {
      "text/plain": [
       "Text(0.5, 1.0, 'Total Impurity vs effective alpha for training set')"
      ]
     },
     "execution_count": 16,
     "metadata": {},
     "output_type": "execute_result"
    },
    {
     "data": {
      "image/png": "[encoded data removed]",
      "text/plain": [
       "<Figure size 432x288 with 1 Axes>"
      ]
     },
     "metadata": {},
     "output_type": "display_data"
    }
   ],
   "source": [
    "fig, ax = plt.subplots()\n",
    "ax.plot(ccp_alphas[:-1], impurities[:-1], marker='o', drawstyle=\"steps-post\")\n",
    "ax.set_xlabel(\"effective alpha\")\n",
    "ax.set_ylabel(\"total impurity of leaves\")\n",
    "ax.set_title(\"Total Impurity vs effective alpha for training set\")"
   ]
  },
  {
   "cell_type": "code",
   "execution_count": 17,
   "metadata": {},
   "outputs": [
    {
     "name": "stdout",
     "output_type": "stream",
     "text": [
      "Number of nodes in the last tree is: 1 with ccp_alpha: 0.0023529375944837394\n"
     ]
    }
   ],
   "source": [
    "clfs = []\n",
    "for ccp_alpha in ccp_alphas:\n",
    "    clf = DecisionTreeClassifier(random_state=0, \n",
    "                                 min_impurity_decrease = 0.00001,\n",
    "                                 criterion='entropy',\n",
    "                                 ccp_alpha=ccp_alpha)\n",
    "    clf.fit(X_train, Y_train)\n",
    "    clfs.append(clf)\n",
    "print(\"Number of nodes in the last tree is: {} with ccp_alpha: {}\".format(\n",
    "      clfs[-1].tree_.node_count, ccp_alphas[-1]))"
   ]
  },
  {
   "cell_type": "code",
   "execution_count": 18,
   "metadata": {},
   "outputs": [
    {
     "data": {
      "image/png": "[encoded data removed]",
      "text/plain": [
       "<Figure size 432x288 with 2 Axes>"
      ]
     },
     "metadata": {},
     "output_type": "display_data"
    }
   ],
   "source": [
    "clfs = clfs[:-1]\n",
    "ccp_alphas = ccp_alphas[:-1]\n",
    "\n",
    "node_counts = [clf.tree_.node_count for clf in clfs]\n",
    "depth = [clf.tree_.max_depth for clf in clfs]\n",
    "fig, ax = plt.subplots(2, 1)\n",
    "ax[0].plot(ccp_alphas, node_counts, marker='o', drawstyle=\"steps-post\")\n",
    "ax[0].set_xlabel(\"alpha\")\n",
    "ax[0].set_ylabel(\"number of nodes\")\n",
    "ax[0].set_title(\"Number of nodes vs alpha\")\n",
    "ax[1].plot(ccp_alphas, depth, marker='o', drawstyle=\"steps-post\")\n",
    "ax[1].set_xlabel(\"alpha\")\n",
    "ax[1].set_ylabel(\"depth of tree\")\n",
    "ax[1].set_title(\"Depth vs alpha\")\n",
    "fig.tight_layout()"
   ]
  },
  {
   "cell_type": "markdown",
   "metadata": {},
   "source": [
    "As alpha increases, more of the tree is pruned, thus creating a decision tree that generalizes better. In this example, setting ccp_alpha=0.015 maximizes the testing accuracy."
   ]
  },
  {
   "cell_type": "code",
   "execution_count": 19,
   "metadata": {},
   "outputs": [
    {
     "data": {
      "image/png": "[encoded data removed]",
      "text/plain": [
       "<Figure size 432x288 with 1 Axes>"
      ]
     },
     "metadata": {},
     "output_type": "display_data"
    }
   ],
   "source": [
    "train_scores = [clf.score(X_train, Y_train) for clf in clfs]\n",
    "test_scores = [clf.score(X_test, Y_test) for clf in clfs]\n",
    "\n",
    "fig, ax = plt.subplots()\n",
    "ax.set_xlabel(\"alpha\")\n",
    "ax.set_ylabel(\"accuracy\")\n",
    "ax.set_title(\"Accuracy vs alpha for training and testing sets\")\n",
    "ax.plot(ccp_alphas, train_scores, marker='o', label=\"train\",\n",
    "        drawstyle=\"steps-post\")\n",
    "ax.plot(ccp_alphas, test_scores, marker='o', label=\"test\",\n",
    "        drawstyle=\"steps-post\")\n",
    "ax.legend()\n",
    "plt.show()"
   ]
  },
  {
   "cell_type": "markdown",
   "metadata": {},
   "source": [
    "## try XGBoosting"
   ]
  },
  {
   "cell_type": "code",
   "execution_count": 20,
   "metadata": {},
   "outputs": [],
   "source": [
    "from xgboost import XGBClassifier"
   ]
  },
  {
   "cell_type": "code",
   "execution_count": 21,
   "metadata": {},
   "outputs": [],
   "source": [
    "XGB = XGBClassifier(max_depth=3,                 # Depth of each tree\n",
    "                            learning_rate=0.1,            # How much to shrink error in each subsequent training. Trade-off with no. estimators.\n",
    "                            n_estimators=100,             # How many trees to use, the more the better, but decrease learning rate if many used.\n",
    "                            verbosity=1,                  # If to show more errors or not.\n",
    "                            objective='binary:logistic',  # Type of target variable.\n",
    "                            booster='gbtree',             # What to boost. Trees in this case.\n",
    "                            n_jobs=12,                    # Parallel jobs to run. Set your processor number.\n",
    "                            gamma=0.001,                  # Minimum loss reduction required to make a further partition on a leaf node of the tree. (Controls growth!)\n",
    "                            subsample=0.632,              # Subsample ratio. Can set lower\n",
    "                            colsample_bytree=1,           # Subsample ratio of columns when constructing each tree.\n",
    "                            colsample_bylevel=1,          # Subsample ratio of columns when constructing each level. 0.33 is similar to random forest.\n",
    "                            colsample_bynode=1,           # Subsample ratio of columns when constructing each split.\n",
    "                            reg_alpha=1,                  # Regularizer for first fit. alpha = 1, lambda = 0 is LASSO.\n",
    "                            reg_lambda=0,                 # Regularizer for first fit.\n",
    "                            scale_pos_weight=40,           # Balancing of positive and negative weights. \n",
    "                                                          # should be set to the positive case balancing weight, or #Goods / #Bads.\n",
    "                            base_score=0.5,               # Global bias. Set to average of the target rate.\n",
    "                            random_state=0,       # Seed\n",
    "                            missing=None                  # How are nulls encoded?\n",
    "                            )"
   ]
  },
  {
   "cell_type": "code",
   "execution_count": 22,
   "metadata": {},
   "outputs": [],
   "source": [
    "# Define the parameters. Play with this grid!\n",
    "param_grid = dict({'n_estimators': [1, 2, 3, 4, 5, 6, 7],\n",
    "                   'max_depth': [2, 3, 4],\n",
    "                 'learning_rate' : [0.01, 0.05, 0.1, 0.15]\n",
    "                  })\n",
    "\n",
    "# Always a good idea to tune on a reduce sample of the train set, as we will call many functions.\n",
    "val_train_df = df.sample(frac = 0.05,               # The fraction to extract\n",
    "                                       random_state = 0,    # The seed.\n",
    "                                       )"
   ]
  },
  {
   "cell_type": "code",
   "execution_count": 23,
   "metadata": {},
   "outputs": [],
   "source": [
    "from sklearn.model_selection import GridSearchCV\n",
    "\n",
    "# Define grid search object.\n",
    "GridXGB = GridSearchCV(XGB,        # Original XGB. \n",
    "                       param_grid,          # Parameter grid\n",
    "                       cv = 3,              # Number of cross-validation folds.  \n",
    "                       scoring = 'roc_auc', # How to rank outputs.\n",
    "                       n_jobs = -1,          # Parallel jobs. -1 is \"all you have\"\n",
    "                       refit = False,       # If refit at the end with the best. We'll do it manually.\n",
    "                       verbose = 1          # If to show what it is doing.\n",
    "                      )"
   ]
  },
  {
   "cell_type": "code",
   "execution_count": 24,
   "metadata": {},
   "outputs": [
    {
     "name": "stdout",
     "output_type": "stream",
     "text": [
      "Fitting 3 folds for each of 84 candidates, totalling 252 fits\n"
     ]
    },
    {
     "name": "stderr",
     "output_type": "stream",
     "text": [
      "[Parallel(n_jobs=-1)]: Using backend LokyBackend with 16 concurrent workers.\n",
      "[Parallel(n_jobs=-1)]: Done  18 tasks      | elapsed:   15.8s\n",
      "[Parallel(n_jobs=-1)]: Done 168 tasks      | elapsed:  2.3min\n",
      "[Parallel(n_jobs=-1)]: Done 252 out of 252 | elapsed:  3.4min finished\n"
     ]
    },
    {
     "data": {
      "text/plain": [
       "GridSearchCV(cv=3,\n",
       "             estimator=XGBClassifier(base_score=0.5, booster='gbtree',\n",
       "                                     colsample_bylevel=1, colsample_bynode=1,\n",
       "                                     colsample_bytree=1, gamma=0.001,\n",
       "                                     gpu_id=None, importance_type='gain',\n",
       "                                     interaction_constraints=None,\n",
       "                                     learning_rate=0.1, max_delta_step=None,\n",
       "                                     max_depth=3, min_child_weight=None,\n",
       "                                     missing=None, monotone_constraints=None,\n",
       "                                     n_estimators=100, n_jobs=12,\n",
       "                                     num_parallel_tree=None, random_state=0,\n",
       "                                     reg_alpha=1, reg_lambda=0,\n",
       "                                     scale_pos_weight=40, subsample=0.632,\n",
       "                                     tree_method=None, validate_parameters=None,\n",
       "                                     verbosity=1),\n",
       "             n_jobs=-1,\n",
       "             param_grid={'learning_rate': [0.01, 0.05, 0.1, 0.15],\n",
       "                         'max_depth': [2, 3, 4],\n",
       "                         'n_estimators': [1, 2, 3, 4, 5, 6, 7]},\n",
       "             refit=False, scoring='roc_auc', verbose=1)"
      ]
     },
     "execution_count": 24,
     "metadata": {},
     "output_type": "execute_result"
    }
   ],
   "source": [
    "# Train grid search.\n",
    "GridXGB.fit(val_train_df[col_kept], val_train_df['Target'])"
   ]
  },
  {
   "cell_type": "code",
   "execution_count": 25,
   "metadata": {},
   "outputs": [],
   "source": [
    "# save the model\n",
    "# import pickle\n",
    "# pkl_filename = 'xgb_cv.pkl'\n",
    "# with open(pkl_filename, 'wb') as file:\n",
    "#     pickle.dump(GridXGB, file)\n",
    " \n",
    "\n",
    "# # load the model from disk\n",
    "# loaded_model = pickle.load(open(filename, 'rb'))"
   ]
  },
  {
   "cell_type": "code",
   "execution_count": 26,
   "metadata": {},
   "outputs": [],
   "source": [
    "XGB = XGBClassifier(max_depth=GridXGB.best_params_.get('max_depth'), # Depth of each tree\n",
    "                            learning_rate=GridXGB.best_params_.get('learning_rate'), # How much to shrink error in each subsequent training. Trade-off with no. estimators.\n",
    "                            n_estimators=GridXGB.best_params_.get('n_estimators'), # How many trees to use, the more the better, but decrease learning rate if many used.\n",
    "                            verbosity=1,                  # If to show more errors or not.\n",
    "                            objective='binary:logistic',  # Type of target variable.\n",
    "                            booster='gbtree',             # What to boost. Trees in this case.\n",
    "                            n_jobs=12,                    # Parallel jobs to run. Set your processor number.\n",
    "                            gamma=0.001,                  # Minimum loss reduction required to make a further partition on a leaf node of the tree. (Controls growth!)\n",
    "                            subsample=0.632,              # Subsample ratio. Can set lower\n",
    "                            colsample_bytree=1,           # Subsample ratio of columns when constructing each tree.\n",
    "                            colsample_bylevel=1,          # Subsample ratio of columns when constructing each level. 0.33 is similar to random forest.\n",
    "                            colsample_bynode=1,           # Subsample ratio of columns when constructing each split.\n",
    "                            reg_alpha=1,                  # Regularizer for first fit. alpha = 1, lambda = 0 is LASSO.\n",
    "                            reg_lambda=0,                 # Regularizer for first fit.\n",
    "                            scale_pos_weight=40,           # Balancing of positive and negative weights.\n",
    "                            base_score=0.5,               # Global bias. Set to average of the target rate.\n",
    "                            random_state=0,       # Seed\n",
    "                            missing=None                  # How are nulls encoded?\n",
    "                            )"
   ]
  },
  {
   "cell_type": "code",
   "execution_count": 27,
   "metadata": {},
   "outputs": [],
   "source": [
    "X = df[col_kept]\n",
    "Y = df['Target']\n",
    "# Split the train/test\n",
    "X_train, X_test, Y_train, Y_test = train_test_split(X, Y, test_size = 0.2, shuffle=False)"
   ]
  },
  {
   "cell_type": "code",
   "execution_count": 28,
   "metadata": {},
   "outputs": [
    {
     "name": "stdout",
     "output_type": "stream",
     "text": [
      "CPU times: user 77.6 ms, sys: 0 ns, total: 77.6 ms\n",
      "Wall time: 10.9 ms\n"
     ]
    },
    {
     "data": {
      "text/plain": [
       "XGBClassifier(base_score=0.5, booster='gbtree', colsample_bylevel=1,\n",
       "              colsample_bynode=1, colsample_bytree=1, gamma=0.001, gpu_id=-1,\n",
       "              importance_type='gain', interaction_constraints='',\n",
       "              learning_rate=0.1, max_delta_step=0, max_depth=2,\n",
       "              min_child_weight=1, missing=None, monotone_constraints='()',\n",
       "              n_estimators=5, n_jobs=12, num_parallel_tree=1, random_state=0,\n",
       "              reg_alpha=1, reg_lambda=0, scale_pos_weight=40, subsample=0.632,\n",
       "              tree_method='exact', validate_parameters=1, verbosity=1)"
      ]
     },
     "execution_count": 28,
     "metadata": {},
     "output_type": "execute_result"
    }
   ],
   "source": [
    "%%time\n",
    "# Train over all training data.\n",
    "XGB.fit(X_train, Y_train)"
   ]
  },
  {
   "cell_type": "code",
   "execution_count": 29,
   "metadata": {
    "scrolled": false
   },
   "outputs": [
    {
     "data": {
      "image/png": "[encoded data removed]",
      "text/plain": [
       "<Figure size 216x576 with 1 Axes>"
      ]
     },
     "metadata": {},
     "output_type": "display_data"
    }
   ],
   "source": [
    "# Plot variable importance\n",
    "import seaborn as sns\n",
    "importances = XGB.feature_importances_\n",
    "indices = np.argsort(importances)[::-1] \n",
    "\n",
    "f, ax = plt.subplots(figsize=(3, 8))\n",
    "plt.title(\"Variable Importance - XGBoosting\")\n",
    "sns.set_color_codes(\"pastel\")\n",
    "sns.barplot(y=[X_train.columns[i] for i in indices], x=importances[indices], \n",
    "            label=\"Total\", color=\"b\")\n",
    "ax.set(ylabel=\"Variable\", xlabel=\"Variable Importance (Entropy)\")\n",
    "sns.despine(left=True, bottom=True)"
   ]
  },
  {
   "cell_type": "code",
   "execution_count": 30,
   "metadata": {},
   "outputs": [],
   "source": [
    "from sklearn.metrics import confusion_matrix, roc_curve, roc_auc_score"
   ]
  },
  {
   "cell_type": "code",
   "execution_count": 31,
   "metadata": {},
   "outputs": [
    {
     "data": {
      "image/png": "[encoded data removed]",
      "text/plain": [
       "<Figure size 720x504 with 2 Axes>"
      ]
     },
     "metadata": {},
     "output_type": "display_data"
    }
   ],
   "source": [
    "# Calculate probability\n",
    "XGBClassTest = XGB.predict(X_test)\n",
    "xg_probs_test = XGB.predict_proba(X_test)\n",
    "xg_probs_test = xg_probs_test[:, 1]\n",
    "\n",
    "# Calculate confusion matrix\n",
    "confusion_matrix_xgb = confusion_matrix(y_true = Y_test, \n",
    "                    y_pred = XGBClassTest)\n",
    "\n",
    "# Turn matrix to percentages\n",
    "confusion_matrix_xgb = confusion_matrix_xgb.astype('float') / confusion_matrix_xgb.sum(axis=1)[:, np.newaxis]\n",
    "\n",
    "# Turn to dataframe\n",
    "df_cm = pd.DataFrame(\n",
    "        confusion_matrix_xgb, index=['up', 'down'], columns=['up', 'down'], \n",
    ")\n",
    "\n",
    "# Parameters of the image\n",
    "figsize = (10,7)\n",
    "fontsize=14\n",
    "\n",
    "# Create image\n",
    "fig = plt.figure(figsize=figsize)\n",
    "heatmap = sns.heatmap(df_cm, annot=True, fmt='.2f')\n",
    "\n",
    "# Make it nicer\n",
    "heatmap.yaxis.set_ticklabels(heatmap.yaxis.get_ticklabels(), rotation=0, \n",
    "                             ha='right', fontsize=fontsize)\n",
    "heatmap.xaxis.set_ticklabels(heatmap.xaxis.get_ticklabels(), rotation=45,\n",
    "                             ha='right', fontsize=fontsize)\n",
    "\n",
    "# Add labels\n",
    "plt.ylabel('True label')\n",
    "plt.xlabel('Predicted label')\n",
    "\n",
    "# Plot!\n",
    "plt.show()"
   ]
  },
  {
   "cell_type": "code",
   "execution_count": 32,
   "metadata": {},
   "outputs": [
    {
     "data": {
      "image/png": "[encoded data removed]",
      "text/plain": [
       "<Figure size 432x288 with 1 Axes>"
      ]
     },
     "metadata": {},
     "output_type": "display_data"
    }
   ],
   "source": [
    "# Calculate the ROC curve points\n",
    "fpr, tpr, thresholds = roc_curve(Y_test, \n",
    "                                 xg_probs_test)\n",
    "\n",
    "# Save the AUC in a variable to display it. Round it first\n",
    "auc = np.round(roc_auc_score(y_true = Y_test, \n",
    "                             y_score = xg_probs_test),\n",
    "               decimals = 3)\n",
    "\n",
    "# Create and show the plot\n",
    "plt.plot(fpr,tpr,label=\"AUC - XGBoosting = \" + str(auc))\n",
    "plt.legend(loc=4)\n",
    "plt.show()"
   ]
  },
  {
   "cell_type": "markdown",
   "metadata": {},
   "source": [
    "##  Stacked LSTM\n",
    "1. Collect stock historical prices.\n",
    "2. Preprocess -- Train and Test\n",
    "3. Build an Stacked LSTM\n",
    "4. Predict test data \n",
    "5. Predict future 30 days"
   ]
  },
  {
   "cell_type": "code",
   "execution_count": 36,
   "metadata": {},
   "outputs": [
    {
     "data": {
      "text/plain": [
       "[<matplotlib.lines.Line2D at 0x7fccab48c820>]"
      ]
     },
     "execution_count": 36,
     "metadata": {},
     "output_type": "execute_result"
    },
    {
     "data": {
      "image/png": "[encoded data removed]",
      "text/plain": [
       "<Figure size 432x288 with 1 Axes>"
      ]
     },
     "metadata": {},
     "output_type": "display_data"
    }
   ],
   "source": [
    "plt.plot(df['Adj Close']) "
   ]
  },
  {
   "cell_type": "code",
   "execution_count": 40,
   "metadata": {},
   "outputs": [],
   "source": [
    "from sklearn.preprocessing import MinMaxScaler\n",
    "scaler = MinMaxScaler(feature_range=(0,1))\n",
    "scaled_Adj = scaler.fit_transform(np.array(df['Adj Close']).reshape(-1,1))"
   ]
  },
  {
   "cell_type": "code",
   "execution_count": 41,
   "metadata": {},
   "outputs": [
    {
     "data": {
      "text/plain": [
       "array([[0.10879518],\n",
       "       [0.10635303],\n",
       "       [0.10879518],\n",
       "       ...,\n",
       "       [0.66914908],\n",
       "       [0.70506717],\n",
       "       [0.71906119]])"
      ]
     },
     "execution_count": 41,
     "metadata": {},
     "output_type": "execute_result"
    }
   ],
   "source": [
    "scaled_Adj"
   ]
  },
  {
   "cell_type": "code",
   "execution_count": 42,
   "metadata": {},
   "outputs": [
    {
     "data": {
      "text/plain": [
       "(3340, 1799)"
      ]
     },
     "execution_count": 42,
     "metadata": {},
     "output_type": "execute_result"
    }
   ],
   "source": [
    "## Create preprocessed dataset.\n",
    "training_size = int(len(scaled_Adj)*0.65)\n",
    "test_size = len(scaled_Adj) - training_size\n",
    "training_size, test_size"
   ]
  },
  {
   "cell_type": "code",
   "execution_count": 43,
   "metadata": {},
   "outputs": [],
   "source": [
    "train_LSTM, test_LSTM = scaled_Adj[:training_size, :], scaled_Adj[training_size:len(scaled_Adj), :1]"
   ]
  },
  {
   "cell_type": "code",
   "execution_count": 45,
   "metadata": {},
   "outputs": [
    {
     "data": {
      "text/plain": [
       "array([[0.78316725],\n",
       "       [0.78431312],\n",
       "       [0.78691768],\n",
       "       ...,\n",
       "       [0.66914908],\n",
       "       [0.70506717],\n",
       "       [0.71906119]])"
      ]
     },
     "execution_count": 45,
     "metadata": {},
     "output_type": "execute_result"
    }
   ],
   "source": [
    "test_LSTM"
   ]
  },
  {
   "cell_type": "code",
   "execution_count": 56,
   "metadata": {},
   "outputs": [
    {
     "data": {
      "text/plain": [
       "(1799, 1)"
      ]
     },
     "execution_count": 56,
     "metadata": {},
     "output_type": "execute_result"
    }
   ],
   "source": [
    "test_LSTM.shape"
   ]
  },
  {
   "cell_type": "code",
   "execution_count": 50,
   "metadata": {},
   "outputs": [],
   "source": [
    "def preprocess_TS(data, time_step=1):\n",
    "    X, Y = [], []\n",
    "    for i in range(len(data) - time_step -1):\n",
    "        a = data[i:(i + time_step), 0]\n",
    "        X.append(a)\n",
    "        Y.append(data[i + time_step, 0])\n",
    "    return np.array(X), np.array(Y)"
   ]
  },
  {
   "cell_type": "code",
   "execution_count": 53,
   "metadata": {},
   "outputs": [],
   "source": [
    "time_step = 100\n",
    "X_train_LSTM, Y_train_LSTM = preprocess_TS(train_LSTM, time_step)\n",
    "X_test_LSTM, Y_test_LSTM = preprocess_TS(test_LSTM, time_step)"
   ]
  },
  {
   "cell_type": "code",
   "execution_count": 55,
   "metadata": {
    "scrolled": true
   },
   "outputs": [
    {
     "data": {
      "text/plain": [
       "array([[0.78316725, 0.78431312, 0.78691768, ..., 0.82150298, 0.82265783,\n",
       "        0.83032258],\n",
       "       [0.78431312, 0.78691768, 0.79889862, ..., 0.82265783, 0.83032258,\n",
       "        0.83956239],\n",
       "       [0.78691768, 0.79889862, 0.78316725, ..., 0.83032258, 0.83956239,\n",
       "        0.87337159],\n",
       "       ...,\n",
       "       [0.29084313, 0.29329208, 0.29049327, ..., 0.56337734, 0.59218179,\n",
       "        0.59614677],\n",
       "       [0.29329208, 0.29049327, 0.32676118, ..., 0.59218179, 0.59614677,\n",
       "        0.61877048],\n",
       "       [0.29049327, 0.32676118, 0.32967661, ..., 0.59614677, 0.61877048,\n",
       "        0.66914908]])"
      ]
     },
     "execution_count": 55,
     "metadata": {},
     "output_type": "execute_result"
    }
   ],
   "source": [
    "X_test_LSTM"
   ]
  },
  {
   "cell_type": "code",
   "execution_count": 57,
   "metadata": {},
   "outputs": [],
   "source": [
    "# reshape input into [samples, time steps, features] which is required for LSTM\n",
    "X_train_LSTM = X_train_LSTM.reshape(X_train_LSTM.shape[0], X_train_LSTM.shape[1], 1)\n",
    "X_test_LSTM = X_test_LSTM.reshape(X_test_LSTM.shape[0], X_test_LSTM.shape[1], 1)"
   ]
  },
  {
   "cell_type": "code",
   "execution_count": 61,
   "metadata": {
    "scrolled": true
   },
   "outputs": [
    {
     "data": {
      "text/plain": [
       "array([[[0.78316725],\n",
       "        [0.78431312],\n",
       "        [0.78691768],\n",
       "        ...,\n",
       "        [0.82150298],\n",
       "        [0.82265783],\n",
       "        [0.83032258]],\n",
       "\n",
       "       [[0.78431312],\n",
       "        [0.78691768],\n",
       "        [0.79889862],\n",
       "        ...,\n",
       "        [0.82265783],\n",
       "        [0.83032258],\n",
       "        [0.83956239]],\n",
       "\n",
       "       [[0.78691768],\n",
       "        [0.79889862],\n",
       "        [0.78316725],\n",
       "        ...,\n",
       "        [0.83032258],\n",
       "        [0.83956239],\n",
       "        [0.87337159]],\n",
       "\n",
       "       ...,\n",
       "\n",
       "       [[0.29084313],\n",
       "        [0.29329208],\n",
       "        [0.29049327],\n",
       "        ...,\n",
       "        [0.56337734],\n",
       "        [0.59218179],\n",
       "        [0.59614677]],\n",
       "\n",
       "       [[0.29329208],\n",
       "        [0.29049327],\n",
       "        [0.32676118],\n",
       "        ...,\n",
       "        [0.59218179],\n",
       "        [0.59614677],\n",
       "        [0.61877048]],\n",
       "\n",
       "       [[0.29049327],\n",
       "        [0.32676118],\n",
       "        [0.32967661],\n",
       "        ...,\n",
       "        [0.59614677],\n",
       "        [0.61877048],\n",
       "        [0.66914908]]])"
      ]
     },
     "execution_count": 61,
     "metadata": {},
     "output_type": "execute_result"
    }
   ],
   "source": [
    "X_test_LSTM"
   ]
  },
  {
   "cell_type": "code",
   "execution_count": 66,
   "metadata": {},
   "outputs": [],
   "source": [
    "# build a stacked LSTM\n",
    "import tensorflow\n",
    "from tensorflow.keras.models import Sequential\n",
    "from tensorflow.keras.layers import Dense\n",
    "from tensorflow.keras.layers import LSTM"
   ]
  },
  {
   "cell_type": "code",
   "execution_count": 67,
   "metadata": {},
   "outputs": [],
   "source": [
    "model = Sequential()\n",
    "model.add(LSTM(50, return_sequences=True, input_shape=(100,1)))\n",
    "model.add(LSTM(50, return_sequences=True))\n",
    "model.add(LSTM(50))\n",
    "model.add(Dense(1))\n",
    "model.compile(loss='mean_squared_error', optimizer='adam')"
   ]
  },
  {
   "cell_type": "code",
   "execution_count": 68,
   "metadata": {
    "scrolled": true
   },
   "outputs": [
    {
     "name": "stdout",
     "output_type": "stream",
     "text": [
      "Model: \"sequential\"\n",
      "_________________________________________________________________\n",
      "Layer (type)                 Output Shape              Param #   \n",
      "=================================================================\n",
      "lstm (LSTM)                  (None, 100, 50)           10400     \n",
      "_________________________________________________________________\n",
      "lstm_1 (LSTM)                (None, 100, 50)           20200     \n",
      "_________________________________________________________________\n",
      "lstm_2 (LSTM)                (None, 50)                20200     \n",
      "_________________________________________________________________\n",
      "dense (Dense)                (None, 1)                 51        \n",
      "=================================================================\n",
      "Total params: 50,851\n",
      "Trainable params: 50,851\n",
      "Non-trainable params: 0\n",
      "_________________________________________________________________\n"
     ]
    }
   ],
   "source": [
    "model.summary()"
   ]
  },
  {
   "cell_type": "code",
   "execution_count": 69,
   "metadata": {},
   "outputs": [
    {
     "name": "stdout",
     "output_type": "stream",
     "text": [
      "Epoch 1/100\n",
      "51/51 [==============================] - 14s 224ms/step - loss: 0.0155 - val_loss: 0.0029\n",
      "Epoch 2/100\n",
      "51/51 [==============================] - 10s 202ms/step - loss: 4.6411e-04 - val_loss: 0.0021\n",
      "Epoch 3/100\n",
      "51/51 [==============================] - 10s 201ms/step - loss: 4.4840e-04 - val_loss: 0.0020\n",
      "Epoch 4/100\n",
      "51/51 [==============================] - 10s 197ms/step - loss: 4.8224e-04 - val_loss: 0.0017\n",
      "Epoch 5/100\n",
      "51/51 [==============================] - 10s 198ms/step - loss: 4.0946e-04 - val_loss: 0.0018\n",
      "Epoch 6/100\n",
      "51/51 [==============================] - 10s 198ms/step - loss: 3.9869e-04 - val_loss: 0.0014\n",
      "Epoch 7/100\n",
      "51/51 [==============================] - 10s 196ms/step - loss: 3.5845e-04 - val_loss: 0.0013\n",
      "Epoch 8/100\n",
      "51/51 [==============================] - 10s 195ms/step - loss: 3.3317e-04 - val_loss: 0.0013\n",
      "Epoch 9/100\n",
      "51/51 [==============================] - 10s 195ms/step - loss: 2.9760e-04 - val_loss: 0.0016\n",
      "Epoch 10/100\n",
      "51/51 [==============================] - 10s 196ms/step - loss: 3.1368e-04 - val_loss: 0.0010\n",
      "Epoch 11/100\n",
      "51/51 [==============================] - 10s 198ms/step - loss: 2.9087e-04 - val_loss: 9.8252e-04\n",
      "Epoch 12/100\n",
      "51/51 [==============================] - 10s 199ms/step - loss: 2.5200e-04 - val_loss: 0.0012\n",
      "Epoch 13/100\n",
      "51/51 [==============================] - 10s 200ms/step - loss: 2.4390e-04 - val_loss: 8.9257e-04\n",
      "Epoch 14/100\n",
      "51/51 [==============================] - 10s 196ms/step - loss: 2.3141e-04 - val_loss: 0.0011\n",
      "Epoch 15/100\n",
      "51/51 [==============================] - 10s 201ms/step - loss: 2.3650e-04 - val_loss: 8.2198e-04\n",
      "Epoch 16/100\n",
      "51/51 [==============================] - 10s 198ms/step - loss: 2.0553e-04 - val_loss: 9.3088e-04\n",
      "Epoch 17/100\n",
      "51/51 [==============================] - 10s 197ms/step - loss: 2.1670e-04 - val_loss: 9.6404e-04\n",
      "Epoch 18/100\n",
      "51/51 [==============================] - 10s 198ms/step - loss: 1.9356e-04 - val_loss: 0.0017\n",
      "Epoch 19/100\n",
      "51/51 [==============================] - 10s 200ms/step - loss: 2.5168e-04 - val_loss: 7.3436e-04\n",
      "Epoch 20/100\n",
      "51/51 [==============================] - 10s 198ms/step - loss: 1.7781e-04 - val_loss: 7.0393e-04\n",
      "Epoch 21/100\n",
      "51/51 [==============================] - 10s 199ms/step - loss: 2.0025e-04 - val_loss: 6.5277e-04\n",
      "Epoch 22/100\n",
      "51/51 [==============================] - 10s 200ms/step - loss: 1.8476e-04 - val_loss: 6.6765e-04\n",
      "Epoch 23/100\n",
      "51/51 [==============================] - 10s 199ms/step - loss: 2.0356e-04 - val_loss: 6.3415e-04\n",
      "Epoch 24/100\n",
      "51/51 [==============================] - 10s 194ms/step - loss: 1.6616e-04 - val_loss: 6.7817e-04\n",
      "Epoch 25/100\n",
      "51/51 [==============================] - 10s 201ms/step - loss: 1.7049e-04 - val_loss: 5.8235e-04\n",
      "Epoch 26/100\n",
      "51/51 [==============================] - 10s 203ms/step - loss: 1.5809e-04 - val_loss: 6.0373e-04\n",
      "Epoch 27/100\n",
      "51/51 [==============================] - 10s 198ms/step - loss: 1.6786e-04 - val_loss: 5.2302e-04\n",
      "Epoch 28/100\n",
      "51/51 [==============================] - 10s 197ms/step - loss: 1.4017e-04 - val_loss: 4.9142e-04\n",
      "Epoch 29/100\n",
      "51/51 [==============================] - 10s 196ms/step - loss: 1.1872e-04 - val_loss: 6.5110e-04\n",
      "Epoch 30/100\n",
      "51/51 [==============================] - 10s 196ms/step - loss: 1.5597e-04 - val_loss: 4.5098e-04\n",
      "Epoch 31/100\n",
      "51/51 [==============================] - 10s 195ms/step - loss: 1.2646e-04 - val_loss: 4.8775e-04\n",
      "Epoch 32/100\n",
      "51/51 [==============================] - 10s 197ms/step - loss: 1.2626e-04 - val_loss: 9.0008e-04\n",
      "Epoch 33/100\n",
      "51/51 [==============================] - 10s 194ms/step - loss: 1.4035e-04 - val_loss: 4.5341e-04\n",
      "Epoch 34/100\n",
      "51/51 [==============================] - 10s 198ms/step - loss: 1.4610e-04 - val_loss: 4.6800e-04\n",
      "Epoch 35/100\n",
      "51/51 [==============================] - 10s 196ms/step - loss: 1.1833e-04 - val_loss: 3.7989e-04\n",
      "Epoch 36/100\n",
      "51/51 [==============================] - 10s 194ms/step - loss: 9.9615e-05 - val_loss: 4.1520e-04\n",
      "Epoch 37/100\n",
      "51/51 [==============================] - 10s 196ms/step - loss: 1.1608e-04 - val_loss: 4.0353e-04\n",
      "Epoch 38/100\n",
      "51/51 [==============================] - 10s 194ms/step - loss: 1.0841e-04 - val_loss: 3.8342e-04\n",
      "Epoch 39/100\n",
      "51/51 [==============================] - 10s 197ms/step - loss: 8.8378e-05 - val_loss: 3.3313e-04\n",
      "Epoch 40/100\n",
      "51/51 [==============================] - 10s 194ms/step - loss: 1.1720e-04 - val_loss: 3.5965e-04\n",
      "Epoch 41/100\n",
      "51/51 [==============================] - 10s 195ms/step - loss: 1.2149e-04 - val_loss: 3.3883e-04\n",
      "Epoch 42/100\n",
      "51/51 [==============================] - 10s 196ms/step - loss: 1.0110e-04 - val_loss: 3.5938e-04\n",
      "Epoch 43/100\n",
      "51/51 [==============================] - 10s 195ms/step - loss: 1.2241e-04 - val_loss: 3.0567e-04\n",
      "Epoch 44/100\n",
      "51/51 [==============================] - 10s 201ms/step - loss: 1.0045e-04 - val_loss: 2.9660e-04\n",
      "Epoch 45/100\n",
      "51/51 [==============================] - 10s 196ms/step - loss: 8.1714e-05 - val_loss: 2.9496e-04\n",
      "Epoch 46/100\n",
      "51/51 [==============================] - 10s 195ms/step - loss: 8.5561e-05 - val_loss: 7.1931e-04\n",
      "Epoch 47/100\n",
      "51/51 [==============================] - 10s 194ms/step - loss: 1.1881e-04 - val_loss: 5.4243e-04\n",
      "Epoch 48/100\n",
      "51/51 [==============================] - 10s 195ms/step - loss: 1.1686e-04 - val_loss: 2.9673e-04\n",
      "Epoch 49/100\n",
      "51/51 [==============================] - 10s 194ms/step - loss: 1.0186e-04 - val_loss: 2.7383e-04\n",
      "Epoch 50/100\n",
      "51/51 [==============================] - 10s 195ms/step - loss: 9.3099e-05 - val_loss: 2.6801e-04\n",
      "Epoch 51/100\n",
      "51/51 [==============================] - 10s 193ms/step - loss: 6.4156e-05 - val_loss: 2.6501e-04\n",
      "Epoch 52/100\n",
      "51/51 [==============================] - 10s 195ms/step - loss: 8.1876e-05 - val_loss: 2.7338e-04\n",
      "Epoch 53/100\n",
      "51/51 [==============================] - 10s 192ms/step - loss: 7.9022e-05 - val_loss: 2.6054e-04\n",
      "Epoch 54/100\n",
      "51/51 [==============================] - 10s 193ms/step - loss: 7.5753e-05 - val_loss: 2.7988e-04\n",
      "Epoch 55/100\n",
      "51/51 [==============================] - 10s 194ms/step - loss: 7.0071e-05 - val_loss: 2.9744e-04\n",
      "Epoch 56/100\n",
      "51/51 [==============================] - 10s 193ms/step - loss: 8.0675e-05 - val_loss: 2.5999e-04\n",
      "Epoch 57/100\n",
      "51/51 [==============================] - 10s 192ms/step - loss: 6.9864e-05 - val_loss: 3.1636e-04\n",
      "Epoch 58/100\n",
      "51/51 [==============================] - 10s 194ms/step - loss: 6.8010e-05 - val_loss: 2.5725e-04\n",
      "Epoch 59/100\n",
      "51/51 [==============================] - 10s 196ms/step - loss: 7.0194e-05 - val_loss: 3.1363e-04\n",
      "Epoch 60/100\n",
      "51/51 [==============================] - 12s 238ms/step - loss: 8.4920e-05 - val_loss: 2.4172e-04\n",
      "Epoch 61/100\n",
      "51/51 [==============================] - 14s 284ms/step - loss: 6.2619e-05 - val_loss: 2.5298e-04\n",
      "Epoch 62/100\n",
      "51/51 [==============================] - 13s 252ms/step - loss: 5.8714e-05 - val_loss: 3.2575e-04\n",
      "Epoch 63/100\n",
      "51/51 [==============================] - 12s 238ms/step - loss: 9.2438e-05 - val_loss: 2.6408e-04\n",
      "Epoch 64/100\n",
      "51/51 [==============================] - 11s 215ms/step - loss: 8.2969e-05 - val_loss: 2.4745e-04\n",
      "Epoch 65/100\n",
      "51/51 [==============================] - 10s 206ms/step - loss: 9.3577e-05 - val_loss: 2.7327e-04\n",
      "Epoch 66/100\n",
      "51/51 [==============================] - 10s 204ms/step - loss: 6.9416e-05 - val_loss: 2.9632e-04\n",
      "Epoch 67/100\n",
      "51/51 [==============================] - 10s 192ms/step - loss: 6.6188e-05 - val_loss: 3.2651e-04\n",
      "Epoch 68/100\n",
      "51/51 [==============================] - 10s 190ms/step - loss: 6.4361e-05 - val_loss: 2.6188e-04\n",
      "Epoch 69/100\n",
      "51/51 [==============================] - 10s 191ms/step - loss: 8.0939e-05 - val_loss: 2.8056e-04\n",
      "Epoch 70/100\n",
      "51/51 [==============================] - 10s 197ms/step - loss: 8.3993e-05 - val_loss: 2.5085e-04\n",
      "Epoch 71/100\n",
      "51/51 [==============================] - 10s 197ms/step - loss: 7.3536e-05 - val_loss: 2.6386e-04\n",
      "Epoch 72/100\n",
      "51/51 [==============================] - 10s 192ms/step - loss: 9.0366e-05 - val_loss: 2.4417e-04\n",
      "Epoch 73/100\n",
      "51/51 [==============================] - 10s 192ms/step - loss: 8.0004e-05 - val_loss: 2.5574e-04\n",
      "Epoch 74/100\n",
      "51/51 [==============================] - 10s 192ms/step - loss: 6.5599e-05 - val_loss: 2.8587e-04\n",
      "Epoch 75/100\n",
      "51/51 [==============================] - 10s 195ms/step - loss: 7.4868e-05 - val_loss: 2.3350e-04\n",
      "Epoch 76/100\n",
      "51/51 [==============================] - 10s 195ms/step - loss: 7.1340e-05 - val_loss: 2.7475e-04\n",
      "Epoch 77/100\n",
      "51/51 [==============================] - 10s 195ms/step - loss: 7.2226e-05 - val_loss: 4.0912e-04\n",
      "Epoch 78/100\n",
      "51/51 [==============================] - 10s 193ms/step - loss: 1.0627e-04 - val_loss: 2.6231e-04\n",
      "Epoch 79/100\n",
      "51/51 [==============================] - 10s 189ms/step - loss: 6.5323e-05 - val_loss: 3.4122e-04\n",
      "Epoch 80/100\n",
      "51/51 [==============================] - 10s 190ms/step - loss: 9.7000e-05 - val_loss: 2.8738e-04\n",
      "Epoch 81/100\n",
      "51/51 [==============================] - 10s 190ms/step - loss: 7.4290e-05 - val_loss: 5.8040e-04\n",
      "Epoch 82/100\n",
      "51/51 [==============================] - 10s 189ms/step - loss: 8.2269e-05 - val_loss: 3.2947e-04\n",
      "Epoch 83/100\n",
      "51/51 [==============================] - 10s 190ms/step - loss: 6.4647e-05 - val_loss: 2.3990e-04\n",
      "Epoch 84/100\n",
      "51/51 [==============================] - 10s 192ms/step - loss: 7.2592e-05 - val_loss: 2.3102e-04\n",
      "Epoch 85/100\n",
      "51/51 [==============================] - 10s 192ms/step - loss: 6.6907e-05 - val_loss: 4.8944e-04\n",
      "Epoch 86/100\n",
      "51/51 [==============================] - 10s 189ms/step - loss: 1.0595e-04 - val_loss: 2.6009e-04\n",
      "Epoch 87/100\n",
      "51/51 [==============================] - 10s 191ms/step - loss: 8.1101e-05 - val_loss: 2.6534e-04\n",
      "Epoch 88/100\n",
      "51/51 [==============================] - 10s 189ms/step - loss: 6.7660e-05 - val_loss: 2.3751e-04\n",
      "Epoch 89/100\n",
      "51/51 [==============================] - 10s 190ms/step - loss: 7.4533e-05 - val_loss: 2.3223e-04\n",
      "Epoch 90/100\n",
      "51/51 [==============================] - 10s 192ms/step - loss: 6.0701e-05 - val_loss: 2.4094e-04\n",
      "Epoch 91/100\n",
      "51/51 [==============================] - 10s 192ms/step - loss: 7.1956e-05 - val_loss: 4.2172e-04\n",
      "Epoch 92/100\n",
      "51/51 [==============================] - 10s 190ms/step - loss: 6.8470e-05 - val_loss: 3.1515e-04\n",
      "Epoch 93/100\n",
      "51/51 [==============================] - 10s 190ms/step - loss: 7.9993e-05 - val_loss: 2.3692e-04\n",
      "Epoch 94/100\n",
      "51/51 [==============================] - 10s 189ms/step - loss: 8.0293e-05 - val_loss: 3.1968e-04\n",
      "Epoch 95/100\n",
      "51/51 [==============================] - 10s 189ms/step - loss: 6.8040e-05 - val_loss: 2.2678e-04\n",
      "Epoch 96/100\n",
      "51/51 [==============================] - 10s 189ms/step - loss: 7.9834e-05 - val_loss: 2.6218e-04\n",
      "Epoch 97/100\n",
      "51/51 [==============================] - 10s 188ms/step - loss: 6.3762e-05 - val_loss: 2.4071e-04\n",
      "Epoch 98/100\n",
      "51/51 [==============================] - 10s 191ms/step - loss: 6.2672e-05 - val_loss: 2.3020e-04\n",
      "Epoch 99/100\n",
      "51/51 [==============================] - 10s 189ms/step - loss: 7.6801e-05 - val_loss: 2.2561e-04\n",
      "Epoch 100/100\n",
      "51/51 [==============================] - 10s 189ms/step - loss: 6.6600e-05 - val_loss: 2.7624e-04\n"
     ]
    },
    {
     "data": {
      "text/plain": [
       "<tensorflow.python.keras.callbacks.History at 0x7fcc984ba310>"
      ]
     },
     "execution_count": 69,
     "metadata": {},
     "output_type": "execute_result"
    }
   ],
   "source": [
    "model.fit(X_train_LSTM, \n",
    "          Y_train_LSTM, \n",
    "          validation_data=(X_test_LSTM, Y_test_LSTM), \n",
    "          epochs=100, \n",
    "          batch_size=64, \n",
    "          verbose=1)"
   ]
  },
  {
   "cell_type": "code",
   "execution_count": 70,
   "metadata": {},
   "outputs": [],
   "source": [
    "# predict\n",
    "train_LSTM_predict = model.predict(X_train_LSTM)\n",
    "test_LSTM_predict = model.predict(X_test_LSTM)"
   ]
  },
  {
   "cell_type": "code",
   "execution_count": 71,
   "metadata": {},
   "outputs": [],
   "source": [
    "# transfor back to normal scale\n",
    "train_LSTM_predict = scaler.inverse_transform(train_LSTM_predict)\n",
    "test_LSTM_predict = scaler.inverse_transform(test_LSTM_predict)"
   ]
  },
  {
   "cell_type": "code",
   "execution_count": 73,
   "metadata": {},
   "outputs": [
    {
     "data": {
      "text/plain": [
       "34.28228372786637"
      ]
     },
     "execution_count": 73,
     "metadata": {},
     "output_type": "execute_result"
    }
   ],
   "source": [
    "# Calculate RMSE metrics\n",
    "from sklearn.metrics import mean_squared_error\n",
    "np.sqrt(mean_squared_error(Y_train_LSTM, train_LSTM_predict))"
   ]
  },
  {
   "cell_type": "code",
   "execution_count": 75,
   "metadata": {},
   "outputs": [
    {
     "data": {
      "text/plain": [
       "59.67878160188203"
      ]
     },
     "execution_count": 75,
     "metadata": {},
     "output_type": "execute_result"
    }
   ],
   "source": [
    "# for the test set\n",
    "np.sqrt(mean_squared_error(Y_test_LSTM, test_LSTM_predict))"
   ]
  },
  {
   "cell_type": "code",
   "execution_count": 79,
   "metadata": {},
   "outputs": [
    {
     "data": {
      "image/png": "[encoded data removed]",
      "text/plain": [
       "<Figure size 432x288 with 1 Axes>"
      ]
     },
     "metadata": {},
     "output_type": "display_data"
    }
   ],
   "source": [
    "### Plotting \n",
    "# shift train predictions for plotting\n",
    "look_back=100\n",
    "trainPredictPlot = np.empty_like(scaled_Adj)\n",
    "trainPredictPlot[:, :] = np.nan\n",
    "\n",
    "trainPredictPlot[look_back:len(train_LSTM_predict)+look_back, :] = train_LSTM_predict\n",
    "# shift test predictions for plotting\n",
    "testPredictPlot = np.empty_like(scaled_Adj)\n",
    "testPredictPlot[:, :] = np.nan\n",
    "testPredictPlot[len(train_LSTM_predict)+(look_back*2)+1:len(scaled_Adj)-1, :] = test_LSTM_predict\n",
    "# plot baseline and predictions\n",
    "plt.plot(scaler.inverse_transform(scaled_Adj))\n",
    "plt.plot(trainPredictPlot, label=\"train\")\n",
    "plt.plot(testPredictPlot, label=\"test\")\n",
    "plt.legend(loc=\"upper left\")\n",
    "plt.show()"
   ]
  },
  {
   "cell_type": "code",
   "execution_count": 84,
   "metadata": {},
   "outputs": [
    {
     "data": {
      "text/plain": [
       "(1, 100)"
      ]
     },
     "execution_count": 84,
     "metadata": {},
     "output_type": "execute_result"
    }
   ],
   "source": [
    "\n",
    "x_input= test_LSTM[len(test_LSTM)-time_step:].reshape(1,-1)\n",
    "x_input.shape"
   ]
  },
  {
   "cell_type": "code",
   "execution_count": 83,
   "metadata": {},
   "outputs": [
    {
     "data": {
      "text/plain": [
       "1799"
      ]
     },
     "execution_count": 83,
     "metadata": {},
     "output_type": "execute_result"
    }
   ],
   "source": [
    "len(test_LSTM)"
   ]
  },
  {
   "cell_type": "code",
   "execution_count": 85,
   "metadata": {},
   "outputs": [],
   "source": [
    "temp_input=list(x_input)\n",
    "temp_input=temp_input[0].tolist()"
   ]
  },
  {
   "cell_type": "code",
   "execution_count": 87,
   "metadata": {
    "scrolled": true
   },
   "outputs": [
    {
     "data": {
      "text/plain": [
       "[0.32967660682697153,\n",
       " 0.33620718206686007,\n",
       " 0.3599970870629853,\n",
       " 0.3841368292106726,\n",
       " 0.37329143265320097,\n",
       " 0.36722733660599827,\n",
       " 0.3251285459130455,\n",
       " 0.3065864428628272,\n",
       " 0.31533270529616486,\n",
       " 0.3341080701856782,\n",
       " 0.3440205528436825,\n",
       " 0.32571162266095066,\n",
       " 0.35078432319400965,\n",
       " 0.34250451771040574,\n",
       " 0.34565318553217855,\n",
       " 0.3556822657454022,\n",
       " 0.38168788017792854,\n",
       " 0.37515730493803995,\n",
       " 0.3790056915488415,\n",
       " 0.39404926738277263,\n",
       " 0.3896178485099703,\n",
       " 0.3780727331634699,\n",
       " 0.38996768566153245,\n",
       " 0.4159733000940588,\n",
       " 0.4078100921656742,\n",
       " 0.3910172416021234,\n",
       " 0.3910172416021234,\n",
       " 0.39719793520454544,\n",
       " 0.370609244024114,\n",
       " 0.3533499142678774,\n",
       " 0.3467027414727695,\n",
       " 0.3512508023866955,\n",
       " 0.33842289150326127,\n",
       " 0.3443703899952447,\n",
       " 0.35941401031508013,\n",
       " 0.3539329910157825,\n",
       " 0.3711923207720191,\n",
       " 0.2655372081104655,\n",
       " 0.26775293978981884,\n",
       " 0.3018051201096062,\n",
       " 0.2992395512786906,\n",
       " 0.2963241230532607,\n",
       " 0.3208137245954625,\n",
       " 0.3216300409397105,\n",
       " 0.3591807707187372,\n",
       " 0.3602303266593282,\n",
       " 0.36058016381089036,\n",
       " 0.347169176179551,\n",
       " 0.3539329910157825,\n",
       " 0.35743149598911755,\n",
       " 0.36979292767986593,\n",
       " 0.37329143265320097,\n",
       " 0.37690657966765967,\n",
       " 0.35848105192970847,\n",
       " 0.3599970870629853,\n",
       " 0.35754813803024116,\n",
       " 0.3606967613661097,\n",
       " 0.39299971144218165,\n",
       " 0.40372851044443403,\n",
       " 0.42168755898969934,\n",
       " 0.4212210797970135,\n",
       " 0.45282431108405685,\n",
       " 0.48967532207405484,\n",
       " 0.4436115472150812,\n",
       " 0.4613373561640036,\n",
       " 0.4607542794160985,\n",
       " 0.4403462818380891,\n",
       " 0.4371976140163163,\n",
       " 0.44955904570706473,\n",
       " 0.4430284704671761,\n",
       " 0.46740145221120644,\n",
       " 0.46798452895911147,\n",
       " 0.45142491799190365,\n",
       " 0.46005456062706984,\n",
       " 0.5117159523405603,\n",
       " 0.4783634463238974,\n",
       " 0.48967532207405484,\n",
       " 0.5125322686848083,\n",
       " 0.5360889340845906,\n",
       " 0.514281543414428,\n",
       " 0.5156809365065812,\n",
       " 0.5233776652422799,\n",
       " 0.5140483038180851,\n",
       " 0.623785020443831,\n",
       " 0.6608692710301719,\n",
       " 0.7508977088669372,\n",
       " 0.744483731182268,\n",
       " 0.6914229908625286,\n",
       " 0.6810440290118385,\n",
       " 0.6844258919440499,\n",
       " 0.6586535615937708,\n",
       " 0.5886832841834527,\n",
       " 0.5994120386998008,\n",
       " 0.5633773440540508,\n",
       " 0.5921817891567878,\n",
       " 0.5961467733228086,\n",
       " 0.6187704803372193,\n",
       " 0.6691490765137759,\n",
       " 0.7050671736043065,\n",
       " 0.7190611934976466]"
      ]
     },
     "execution_count": 87,
     "metadata": {},
     "output_type": "execute_result"
    }
   ],
   "source": [
    "temp_input"
   ]
  },
  {
   "cell_type": "code",
   "execution_count": 88,
   "metadata": {},
   "outputs": [
    {
     "name": "stdout",
     "output_type": "stream",
     "text": [
      "[0.7097846]\n",
      "101\n",
      "1 day input [0.33620718 0.35999709 0.38413683 0.37329143 0.36722734 0.32512855\n",
      " 0.30658644 0.31533271 0.33410807 0.34402055 0.32571162 0.35078432\n",
      " 0.34250452 0.34565319 0.35568227 0.38168788 0.3751573  0.37900569\n",
      " 0.39404927 0.38961785 0.37807273 0.38996769 0.4159733  0.40781009\n",
      " 0.39101724 0.39101724 0.39719794 0.37060924 0.35334991 0.34670274\n",
      " 0.3512508  0.33842289 0.34437039 0.35941401 0.35393299 0.37119232\n",
      " 0.26553721 0.26775294 0.30180512 0.29923955 0.29632412 0.32081372\n",
      " 0.32163004 0.35918077 0.36023033 0.36058016 0.34716918 0.35393299\n",
      " 0.3574315  0.36979293 0.37329143 0.37690658 0.35848105 0.35999709\n",
      " 0.35754814 0.36069676 0.39299971 0.40372851 0.42168756 0.42122108\n",
      " 0.45282431 0.48967532 0.44361155 0.46133736 0.46075428 0.44034628\n",
      " 0.43719761 0.44955905 0.44302847 0.46740145 0.46798453 0.45142492\n",
      " 0.46005456 0.51171595 0.47836345 0.48967532 0.51253227 0.53608893\n",
      " 0.51428154 0.51568094 0.52337767 0.5140483  0.62378502 0.66086927\n",
      " 0.75089771 0.74448373 0.69142299 0.68104403 0.68442589 0.65865356\n",
      " 0.58868328 0.59941204 0.56337734 0.59218179 0.59614677 0.61877048\n",
      " 0.66914908 0.70506717 0.71906119 0.70978463]\n",
      "1 day output [[0.6981863]]\n",
      "2 day input [0.35999709 0.38413683 0.37329143 0.36722734 0.32512855 0.30658644\n",
      " 0.31533271 0.33410807 0.34402055 0.32571162 0.35078432 0.34250452\n",
      " 0.34565319 0.35568227 0.38168788 0.3751573  0.37900569 0.39404927\n",
      " 0.38961785 0.37807273 0.38996769 0.4159733  0.40781009 0.39101724\n",
      " 0.39101724 0.39719794 0.37060924 0.35334991 0.34670274 0.3512508\n",
      " 0.33842289 0.34437039 0.35941401 0.35393299 0.37119232 0.26553721\n",
      " 0.26775294 0.30180512 0.29923955 0.29632412 0.32081372 0.32163004\n",
      " 0.35918077 0.36023033 0.36058016 0.34716918 0.35393299 0.3574315\n",
      " 0.36979293 0.37329143 0.37690658 0.35848105 0.35999709 0.35754814\n",
      " 0.36069676 0.39299971 0.40372851 0.42168756 0.42122108 0.45282431\n",
      " 0.48967532 0.44361155 0.46133736 0.46075428 0.44034628 0.43719761\n",
      " 0.44955905 0.44302847 0.46740145 0.46798453 0.45142492 0.46005456\n",
      " 0.51171595 0.47836345 0.48967532 0.51253227 0.53608893 0.51428154\n",
      " 0.51568094 0.52337767 0.5140483  0.62378502 0.66086927 0.75089771\n",
      " 0.74448373 0.69142299 0.68104403 0.68442589 0.65865356 0.58868328\n",
      " 0.59941204 0.56337734 0.59218179 0.59614677 0.61877048 0.66914908\n",
      " 0.70506717 0.71906119 0.70978463 0.69818628]\n",
      "2 day output [[0.6889825]]\n",
      "3 day input [0.38413683 0.37329143 0.36722734 0.32512855 0.30658644 0.31533271\n",
      " 0.33410807 0.34402055 0.32571162 0.35078432 0.34250452 0.34565319\n",
      " 0.35568227 0.38168788 0.3751573  0.37900569 0.39404927 0.38961785\n",
      " 0.37807273 0.38996769 0.4159733  0.40781009 0.39101724 0.39101724\n",
      " 0.39719794 0.37060924 0.35334991 0.34670274 0.3512508  0.33842289\n",
      " 0.34437039 0.35941401 0.35393299 0.37119232 0.26553721 0.26775294\n",
      " 0.30180512 0.29923955 0.29632412 0.32081372 0.32163004 0.35918077\n",
      " 0.36023033 0.36058016 0.34716918 0.35393299 0.3574315  0.36979293\n",
      " 0.37329143 0.37690658 0.35848105 0.35999709 0.35754814 0.36069676\n",
      " 0.39299971 0.40372851 0.42168756 0.42122108 0.45282431 0.48967532\n",
      " 0.44361155 0.46133736 0.46075428 0.44034628 0.43719761 0.44955905\n",
      " 0.44302847 0.46740145 0.46798453 0.45142492 0.46005456 0.51171595\n",
      " 0.47836345 0.48967532 0.51253227 0.53608893 0.51428154 0.51568094\n",
      " 0.52337767 0.5140483  0.62378502 0.66086927 0.75089771 0.74448373\n",
      " 0.69142299 0.68104403 0.68442589 0.65865356 0.58868328 0.59941204\n",
      " 0.56337734 0.59218179 0.59614677 0.61877048 0.66914908 0.70506717\n",
      " 0.71906119 0.70978463 0.69818628 0.68898249]\n",
      "3 day output [[0.68247855]]\n",
      "4 day input [0.37329143 0.36722734 0.32512855 0.30658644 0.31533271 0.33410807\n",
      " 0.34402055 0.32571162 0.35078432 0.34250452 0.34565319 0.35568227\n",
      " 0.38168788 0.3751573  0.37900569 0.39404927 0.38961785 0.37807273\n",
      " 0.38996769 0.4159733  0.40781009 0.39101724 0.39101724 0.39719794\n",
      " 0.37060924 0.35334991 0.34670274 0.3512508  0.33842289 0.34437039\n",
      " 0.35941401 0.35393299 0.37119232 0.26553721 0.26775294 0.30180512\n",
      " 0.29923955 0.29632412 0.32081372 0.32163004 0.35918077 0.36023033\n",
      " 0.36058016 0.34716918 0.35393299 0.3574315  0.36979293 0.37329143\n",
      " 0.37690658 0.35848105 0.35999709 0.35754814 0.36069676 0.39299971\n",
      " 0.40372851 0.42168756 0.42122108 0.45282431 0.48967532 0.44361155\n",
      " 0.46133736 0.46075428 0.44034628 0.43719761 0.44955905 0.44302847\n",
      " 0.46740145 0.46798453 0.45142492 0.46005456 0.51171595 0.47836345\n",
      " 0.48967532 0.51253227 0.53608893 0.51428154 0.51568094 0.52337767\n",
      " 0.5140483  0.62378502 0.66086927 0.75089771 0.74448373 0.69142299\n",
      " 0.68104403 0.68442589 0.65865356 0.58868328 0.59941204 0.56337734\n",
      " 0.59218179 0.59614677 0.61877048 0.66914908 0.70506717 0.71906119\n",
      " 0.70978463 0.69818628 0.68898249 0.68247855]\n",
      "4 day output [[0.67740154]]\n",
      "5 day input [0.36722734 0.32512855 0.30658644 0.31533271 0.33410807 0.34402055\n",
      " 0.32571162 0.35078432 0.34250452 0.34565319 0.35568227 0.38168788\n",
      " 0.3751573  0.37900569 0.39404927 0.38961785 0.37807273 0.38996769\n",
      " 0.4159733  0.40781009 0.39101724 0.39101724 0.39719794 0.37060924\n",
      " 0.35334991 0.34670274 0.3512508  0.33842289 0.34437039 0.35941401\n",
      " 0.35393299 0.37119232 0.26553721 0.26775294 0.30180512 0.29923955\n",
      " 0.29632412 0.32081372 0.32163004 0.35918077 0.36023033 0.36058016\n",
      " 0.34716918 0.35393299 0.3574315  0.36979293 0.37329143 0.37690658\n",
      " 0.35848105 0.35999709 0.35754814 0.36069676 0.39299971 0.40372851\n",
      " 0.42168756 0.42122108 0.45282431 0.48967532 0.44361155 0.46133736\n",
      " 0.46075428 0.44034628 0.43719761 0.44955905 0.44302847 0.46740145\n",
      " 0.46798453 0.45142492 0.46005456 0.51171595 0.47836345 0.48967532\n",
      " 0.51253227 0.53608893 0.51428154 0.51568094 0.52337767 0.5140483\n",
      " 0.62378502 0.66086927 0.75089771 0.74448373 0.69142299 0.68104403\n",
      " 0.68442589 0.65865356 0.58868328 0.59941204 0.56337734 0.59218179\n",
      " 0.59614677 0.61877048 0.66914908 0.70506717 0.71906119 0.70978463\n",
      " 0.69818628 0.68898249 0.68247855 0.67740154]\n",
      "5 day output [[0.6725842]]\n",
      "6 day input [0.32512855 0.30658644 0.31533271 0.33410807 0.34402055 0.32571162\n",
      " 0.35078432 0.34250452 0.34565319 0.35568227 0.38168788 0.3751573\n",
      " 0.37900569 0.39404927 0.38961785 0.37807273 0.38996769 0.4159733\n",
      " 0.40781009 0.39101724 0.39101724 0.39719794 0.37060924 0.35334991\n",
      " 0.34670274 0.3512508  0.33842289 0.34437039 0.35941401 0.35393299\n",
      " 0.37119232 0.26553721 0.26775294 0.30180512 0.29923955 0.29632412\n",
      " 0.32081372 0.32163004 0.35918077 0.36023033 0.36058016 0.34716918\n",
      " 0.35393299 0.3574315  0.36979293 0.37329143 0.37690658 0.35848105\n",
      " 0.35999709 0.35754814 0.36069676 0.39299971 0.40372851 0.42168756\n",
      " 0.42122108 0.45282431 0.48967532 0.44361155 0.46133736 0.46075428\n",
      " 0.44034628 0.43719761 0.44955905 0.44302847 0.46740145 0.46798453\n",
      " 0.45142492 0.46005456 0.51171595 0.47836345 0.48967532 0.51253227\n",
      " 0.53608893 0.51428154 0.51568094 0.52337767 0.5140483  0.62378502\n",
      " 0.66086927 0.75089771 0.74448373 0.69142299 0.68104403 0.68442589\n",
      " 0.65865356 0.58868328 0.59941204 0.56337734 0.59218179 0.59614677\n",
      " 0.61877048 0.66914908 0.70506717 0.71906119 0.70978463 0.69818628\n",
      " 0.68898249 0.68247855 0.67740154 0.67258418]\n",
      "6 day output [[0.6674862]]\n",
      "7 day input [0.30658644 0.31533271 0.33410807 0.34402055 0.32571162 0.35078432\n",
      " 0.34250452 0.34565319 0.35568227 0.38168788 0.3751573  0.37900569\n",
      " 0.39404927 0.38961785 0.37807273 0.38996769 0.4159733  0.40781009\n",
      " 0.39101724 0.39101724 0.39719794 0.37060924 0.35334991 0.34670274\n",
      " 0.3512508  0.33842289 0.34437039 0.35941401 0.35393299 0.37119232\n",
      " 0.26553721 0.26775294 0.30180512 0.29923955 0.29632412 0.32081372\n",
      " 0.32163004 0.35918077 0.36023033 0.36058016 0.34716918 0.35393299\n",
      " 0.3574315  0.36979293 0.37329143 0.37690658 0.35848105 0.35999709\n",
      " 0.35754814 0.36069676 0.39299971 0.40372851 0.42168756 0.42122108\n",
      " 0.45282431 0.48967532 0.44361155 0.46133736 0.46075428 0.44034628\n",
      " 0.43719761 0.44955905 0.44302847 0.46740145 0.46798453 0.45142492\n",
      " 0.46005456 0.51171595 0.47836345 0.48967532 0.51253227 0.53608893\n",
      " 0.51428154 0.51568094 0.52337767 0.5140483  0.62378502 0.66086927\n",
      " 0.75089771 0.74448373 0.69142299 0.68104403 0.68442589 0.65865356\n",
      " 0.58868328 0.59941204 0.56337734 0.59218179 0.59614677 0.61877048\n",
      " 0.66914908 0.70506717 0.71906119 0.70978463 0.69818628 0.68898249\n",
      " 0.68247855 0.67740154 0.67258418 0.66748619]\n",
      "7 day output [[0.6620394]]\n",
      "8 day input [0.31533271 0.33410807 0.34402055 0.32571162 0.35078432 0.34250452\n",
      " 0.34565319 0.35568227 0.38168788 0.3751573  0.37900569 0.39404927\n",
      " 0.38961785 0.37807273 0.38996769 0.4159733  0.40781009 0.39101724\n",
      " 0.39101724 0.39719794 0.37060924 0.35334991 0.34670274 0.3512508\n",
      " 0.33842289 0.34437039 0.35941401 0.35393299 0.37119232 0.26553721\n",
      " 0.26775294 0.30180512 0.29923955 0.29632412 0.32081372 0.32163004\n",
      " 0.35918077 0.36023033 0.36058016 0.34716918 0.35393299 0.3574315\n",
      " 0.36979293 0.37329143 0.37690658 0.35848105 0.35999709 0.35754814\n",
      " 0.36069676 0.39299971 0.40372851 0.42168756 0.42122108 0.45282431\n",
      " 0.48967532 0.44361155 0.46133736 0.46075428 0.44034628 0.43719761\n",
      " 0.44955905 0.44302847 0.46740145 0.46798453 0.45142492 0.46005456\n",
      " 0.51171595 0.47836345 0.48967532 0.51253227 0.53608893 0.51428154\n",
      " 0.51568094 0.52337767 0.5140483  0.62378502 0.66086927 0.75089771\n",
      " 0.74448373 0.69142299 0.68104403 0.68442589 0.65865356 0.58868328\n",
      " 0.59941204 0.56337734 0.59218179 0.59614677 0.61877048 0.66914908\n",
      " 0.70506717 0.71906119 0.70978463 0.69818628 0.68898249 0.68247855\n",
      " 0.67740154 0.67258418 0.66748619 0.6620394 ]\n",
      "8 day output [[0.65639716]]\n",
      "9 day input [0.33410807 0.34402055 0.32571162 0.35078432 0.34250452 0.34565319\n",
      " 0.35568227 0.38168788 0.3751573  0.37900569 0.39404927 0.38961785\n",
      " 0.37807273 0.38996769 0.4159733  0.40781009 0.39101724 0.39101724\n",
      " 0.39719794 0.37060924 0.35334991 0.34670274 0.3512508  0.33842289\n",
      " 0.34437039 0.35941401 0.35393299 0.37119232 0.26553721 0.26775294\n",
      " 0.30180512 0.29923955 0.29632412 0.32081372 0.32163004 0.35918077\n",
      " 0.36023033 0.36058016 0.34716918 0.35393299 0.3574315  0.36979293\n",
      " 0.37329143 0.37690658 0.35848105 0.35999709 0.35754814 0.36069676\n",
      " 0.39299971 0.40372851 0.42168756 0.42122108 0.45282431 0.48967532\n",
      " 0.44361155 0.46133736 0.46075428 0.44034628 0.43719761 0.44955905\n",
      " 0.44302847 0.46740145 0.46798453 0.45142492 0.46005456 0.51171595\n",
      " 0.47836345 0.48967532 0.51253227 0.53608893 0.51428154 0.51568094\n",
      " 0.52337767 0.5140483  0.62378502 0.66086927 0.75089771 0.74448373\n",
      " 0.69142299 0.68104403 0.68442589 0.65865356 0.58868328 0.59941204\n",
      " 0.56337734 0.59218179 0.59614677 0.61877048 0.66914908 0.70506717\n",
      " 0.71906119 0.70978463 0.69818628 0.68898249 0.68247855 0.67740154\n",
      " 0.67258418 0.66748619 0.6620394  0.65639716]\n",
      "9 day output [[0.65075636]]\n",
      "10 day input [0.34402055 0.32571162 0.35078432 0.34250452 0.34565319 0.35568227\n",
      " 0.38168788 0.3751573  0.37900569 0.39404927 0.38961785 0.37807273\n",
      " 0.38996769 0.4159733  0.40781009 0.39101724 0.39101724 0.39719794\n",
      " 0.37060924 0.35334991 0.34670274 0.3512508  0.33842289 0.34437039\n",
      " 0.35941401 0.35393299 0.37119232 0.26553721 0.26775294 0.30180512\n",
      " 0.29923955 0.29632412 0.32081372 0.32163004 0.35918077 0.36023033\n",
      " 0.36058016 0.34716918 0.35393299 0.3574315  0.36979293 0.37329143\n",
      " 0.37690658 0.35848105 0.35999709 0.35754814 0.36069676 0.39299971\n",
      " 0.40372851 0.42168756 0.42122108 0.45282431 0.48967532 0.44361155\n",
      " 0.46133736 0.46075428 0.44034628 0.43719761 0.44955905 0.44302847\n",
      " 0.46740145 0.46798453 0.45142492 0.46005456 0.51171595 0.47836345\n",
      " 0.48967532 0.51253227 0.53608893 0.51428154 0.51568094 0.52337767\n",
      " 0.5140483  0.62378502 0.66086927 0.75089771 0.74448373 0.69142299\n",
      " 0.68104403 0.68442589 0.65865356 0.58868328 0.59941204 0.56337734\n",
      " 0.59218179 0.59614677 0.61877048 0.66914908 0.70506717 0.71906119\n",
      " 0.70978463 0.69818628 0.68898249 0.68247855 0.67740154 0.67258418\n",
      " 0.66748619 0.6620394  0.65639716 0.65075636]\n",
      "10 day output [[0.64527035]]\n",
      "11 day input [0.32571162 0.35078432 0.34250452 0.34565319 0.35568227 0.38168788\n",
      " 0.3751573  0.37900569 0.39404927 0.38961785 0.37807273 0.38996769\n",
      " 0.4159733  0.40781009 0.39101724 0.39101724 0.39719794 0.37060924\n",
      " 0.35334991 0.34670274 0.3512508  0.33842289 0.34437039 0.35941401\n",
      " 0.35393299 0.37119232 0.26553721 0.26775294 0.30180512 0.29923955\n",
      " 0.29632412 0.32081372 0.32163004 0.35918077 0.36023033 0.36058016\n",
      " 0.34716918 0.35393299 0.3574315  0.36979293 0.37329143 0.37690658\n",
      " 0.35848105 0.35999709 0.35754814 0.36069676 0.39299971 0.40372851\n",
      " 0.42168756 0.42122108 0.45282431 0.48967532 0.44361155 0.46133736\n",
      " 0.46075428 0.44034628 0.43719761 0.44955905 0.44302847 0.46740145\n",
      " 0.46798453 0.45142492 0.46005456 0.51171595 0.47836345 0.48967532\n",
      " 0.51253227 0.53608893 0.51428154 0.51568094 0.52337767 0.5140483\n",
      " 0.62378502 0.66086927 0.75089771 0.74448373 0.69142299 0.68104403\n",
      " 0.68442589 0.65865356 0.58868328 0.59941204 0.56337734 0.59218179\n",
      " 0.59614677 0.61877048 0.66914908 0.70506717 0.71906119 0.70978463\n",
      " 0.69818628 0.68898249 0.68247855 0.67740154 0.67258418 0.66748619\n",
      " 0.6620394  0.65639716 0.65075636 0.64527035]\n",
      "11 day output [[0.64002925]]\n",
      "12 day input [0.35078432 0.34250452 0.34565319 0.35568227 0.38168788 0.3751573\n",
      " 0.37900569 0.39404927 0.38961785 0.37807273 0.38996769 0.4159733\n",
      " 0.40781009 0.39101724 0.39101724 0.39719794 0.37060924 0.35334991\n",
      " 0.34670274 0.3512508  0.33842289 0.34437039 0.35941401 0.35393299\n",
      " 0.37119232 0.26553721 0.26775294 0.30180512 0.29923955 0.29632412\n",
      " 0.32081372 0.32163004 0.35918077 0.36023033 0.36058016 0.34716918\n",
      " 0.35393299 0.3574315  0.36979293 0.37329143 0.37690658 0.35848105\n",
      " 0.35999709 0.35754814 0.36069676 0.39299971 0.40372851 0.42168756\n",
      " 0.42122108 0.45282431 0.48967532 0.44361155 0.46133736 0.46075428\n",
      " 0.44034628 0.43719761 0.44955905 0.44302847 0.46740145 0.46798453\n",
      " 0.45142492 0.46005456 0.51171595 0.47836345 0.48967532 0.51253227\n",
      " 0.53608893 0.51428154 0.51568094 0.52337767 0.5140483  0.62378502\n",
      " 0.66086927 0.75089771 0.74448373 0.69142299 0.68104403 0.68442589\n",
      " 0.65865356 0.58868328 0.59941204 0.56337734 0.59218179 0.59614677\n",
      " 0.61877048 0.66914908 0.70506717 0.71906119 0.70978463 0.69818628\n",
      " 0.68898249 0.68247855 0.67740154 0.67258418 0.66748619 0.6620394\n",
      " 0.65639716 0.65075636 0.64527035 0.64002925]\n",
      "12 day output [[0.6350699]]\n",
      "13 day input [0.34250452 0.34565319 0.35568227 0.38168788 0.3751573  0.37900569\n",
      " 0.39404927 0.38961785 0.37807273 0.38996769 0.4159733  0.40781009\n",
      " 0.39101724 0.39101724 0.39719794 0.37060924 0.35334991 0.34670274\n",
      " 0.3512508  0.33842289 0.34437039 0.35941401 0.35393299 0.37119232\n",
      " 0.26553721 0.26775294 0.30180512 0.29923955 0.29632412 0.32081372\n",
      " 0.32163004 0.35918077 0.36023033 0.36058016 0.34716918 0.35393299\n",
      " 0.3574315  0.36979293 0.37329143 0.37690658 0.35848105 0.35999709\n",
      " 0.35754814 0.36069676 0.39299971 0.40372851 0.42168756 0.42122108\n",
      " 0.45282431 0.48967532 0.44361155 0.46133736 0.46075428 0.44034628\n",
      " 0.43719761 0.44955905 0.44302847 0.46740145 0.46798453 0.45142492\n",
      " 0.46005456 0.51171595 0.47836345 0.48967532 0.51253227 0.53608893\n",
      " 0.51428154 0.51568094 0.52337767 0.5140483  0.62378502 0.66086927\n",
      " 0.75089771 0.74448373 0.69142299 0.68104403 0.68442589 0.65865356\n",
      " 0.58868328 0.59941204 0.56337734 0.59218179 0.59614677 0.61877048\n",
      " 0.66914908 0.70506717 0.71906119 0.70978463 0.69818628 0.68898249\n",
      " 0.68247855 0.67740154 0.67258418 0.66748619 0.6620394  0.65639716\n",
      " 0.65075636 0.64527035 0.64002925 0.63506991]\n",
      "13 day output [[0.6303947]]\n",
      "14 day input [0.34565319 0.35568227 0.38168788 0.3751573  0.37900569 0.39404927\n",
      " 0.38961785 0.37807273 0.38996769 0.4159733  0.40781009 0.39101724\n",
      " 0.39101724 0.39719794 0.37060924 0.35334991 0.34670274 0.3512508\n",
      " 0.33842289 0.34437039 0.35941401 0.35393299 0.37119232 0.26553721\n",
      " 0.26775294 0.30180512 0.29923955 0.29632412 0.32081372 0.32163004\n",
      " 0.35918077 0.36023033 0.36058016 0.34716918 0.35393299 0.3574315\n",
      " 0.36979293 0.37329143 0.37690658 0.35848105 0.35999709 0.35754814\n",
      " 0.36069676 0.39299971 0.40372851 0.42168756 0.42122108 0.45282431\n",
      " 0.48967532 0.44361155 0.46133736 0.46075428 0.44034628 0.43719761\n",
      " 0.44955905 0.44302847 0.46740145 0.46798453 0.45142492 0.46005456\n",
      " 0.51171595 0.47836345 0.48967532 0.51253227 0.53608893 0.51428154\n",
      " 0.51568094 0.52337767 0.5140483  0.62378502 0.66086927 0.75089771\n",
      " 0.74448373 0.69142299 0.68104403 0.68442589 0.65865356 0.58868328\n",
      " 0.59941204 0.56337734 0.59218179 0.59614677 0.61877048 0.66914908\n",
      " 0.70506717 0.71906119 0.70978463 0.69818628 0.68898249 0.68247855\n",
      " 0.67740154 0.67258418 0.66748619 0.6620394  0.65639716 0.65075636\n",
      " 0.64527035 0.64002925 0.63506991 0.6303947 ]\n",
      "14 day output [[0.6259867]]\n",
      "15 day input [0.35568227 0.38168788 0.3751573  0.37900569 0.39404927 0.38961785\n",
      " 0.37807273 0.38996769 0.4159733  0.40781009 0.39101724 0.39101724\n",
      " 0.39719794 0.37060924 0.35334991 0.34670274 0.3512508  0.33842289\n",
      " 0.34437039 0.35941401 0.35393299 0.37119232 0.26553721 0.26775294\n",
      " 0.30180512 0.29923955 0.29632412 0.32081372 0.32163004 0.35918077\n",
      " 0.36023033 0.36058016 0.34716918 0.35393299 0.3574315  0.36979293\n",
      " 0.37329143 0.37690658 0.35848105 0.35999709 0.35754814 0.36069676\n",
      " 0.39299971 0.40372851 0.42168756 0.42122108 0.45282431 0.48967532\n",
      " 0.44361155 0.46133736 0.46075428 0.44034628 0.43719761 0.44955905\n",
      " 0.44302847 0.46740145 0.46798453 0.45142492 0.46005456 0.51171595\n",
      " 0.47836345 0.48967532 0.51253227 0.53608893 0.51428154 0.51568094\n",
      " 0.52337767 0.5140483  0.62378502 0.66086927 0.75089771 0.74448373\n",
      " 0.69142299 0.68104403 0.68442589 0.65865356 0.58868328 0.59941204\n",
      " 0.56337734 0.59218179 0.59614677 0.61877048 0.66914908 0.70506717\n",
      " 0.71906119 0.70978463 0.69818628 0.68898249 0.68247855 0.67740154\n",
      " 0.67258418 0.66748619 0.6620394  0.65639716 0.65075636 0.64527035\n",
      " 0.64002925 0.63506991 0.6303947  0.6259867 ]\n",
      "15 day output [[0.62182087]]\n",
      "16 day input [0.38168788 0.3751573  0.37900569 0.39404927 0.38961785 0.37807273\n",
      " 0.38996769 0.4159733  0.40781009 0.39101724 0.39101724 0.39719794\n",
      " 0.37060924 0.35334991 0.34670274 0.3512508  0.33842289 0.34437039\n",
      " 0.35941401 0.35393299 0.37119232 0.26553721 0.26775294 0.30180512\n",
      " 0.29923955 0.29632412 0.32081372 0.32163004 0.35918077 0.36023033\n",
      " 0.36058016 0.34716918 0.35393299 0.3574315  0.36979293 0.37329143\n",
      " 0.37690658 0.35848105 0.35999709 0.35754814 0.36069676 0.39299971\n",
      " 0.40372851 0.42168756 0.42122108 0.45282431 0.48967532 0.44361155\n",
      " 0.46133736 0.46075428 0.44034628 0.43719761 0.44955905 0.44302847\n",
      " 0.46740145 0.46798453 0.45142492 0.46005456 0.51171595 0.47836345\n",
      " 0.48967532 0.51253227 0.53608893 0.51428154 0.51568094 0.52337767\n",
      " 0.5140483  0.62378502 0.66086927 0.75089771 0.74448373 0.69142299\n",
      " 0.68104403 0.68442589 0.65865356 0.58868328 0.59941204 0.56337734\n",
      " 0.59218179 0.59614677 0.61877048 0.66914908 0.70506717 0.71906119\n",
      " 0.70978463 0.69818628 0.68898249 0.68247855 0.67740154 0.67258418\n",
      " 0.66748619 0.6620394  0.65639716 0.65075636 0.64527035 0.64002925\n",
      " 0.63506991 0.6303947  0.6259867  0.62182087]\n",
      "16 day output [[0.6178692]]\n",
      "17 day input [0.3751573  0.37900569 0.39404927 0.38961785 0.37807273 0.38996769\n",
      " 0.4159733  0.40781009 0.39101724 0.39101724 0.39719794 0.37060924\n",
      " 0.35334991 0.34670274 0.3512508  0.33842289 0.34437039 0.35941401\n",
      " 0.35393299 0.37119232 0.26553721 0.26775294 0.30180512 0.29923955\n",
      " 0.29632412 0.32081372 0.32163004 0.35918077 0.36023033 0.36058016\n",
      " 0.34716918 0.35393299 0.3574315  0.36979293 0.37329143 0.37690658\n",
      " 0.35848105 0.35999709 0.35754814 0.36069676 0.39299971 0.40372851\n",
      " 0.42168756 0.42122108 0.45282431 0.48967532 0.44361155 0.46133736\n",
      " 0.46075428 0.44034628 0.43719761 0.44955905 0.44302847 0.46740145\n",
      " 0.46798453 0.45142492 0.46005456 0.51171595 0.47836345 0.48967532\n",
      " 0.51253227 0.53608893 0.51428154 0.51568094 0.52337767 0.5140483\n",
      " 0.62378502 0.66086927 0.75089771 0.74448373 0.69142299 0.68104403\n",
      " 0.68442589 0.65865356 0.58868328 0.59941204 0.56337734 0.59218179\n",
      " 0.59614677 0.61877048 0.66914908 0.70506717 0.71906119 0.70978463\n",
      " 0.69818628 0.68898249 0.68247855 0.67740154 0.67258418 0.66748619\n",
      " 0.6620394  0.65639716 0.65075636 0.64527035 0.64002925 0.63506991\n",
      " 0.6303947  0.6259867  0.62182087 0.6178692 ]\n",
      "17 day output [[0.614104]]\n",
      "18 day input [0.37900569 0.39404927 0.38961785 0.37807273 0.38996769 0.4159733\n",
      " 0.40781009 0.39101724 0.39101724 0.39719794 0.37060924 0.35334991\n",
      " 0.34670274 0.3512508  0.33842289 0.34437039 0.35941401 0.35393299\n",
      " 0.37119232 0.26553721 0.26775294 0.30180512 0.29923955 0.29632412\n",
      " 0.32081372 0.32163004 0.35918077 0.36023033 0.36058016 0.34716918\n",
      " 0.35393299 0.3574315  0.36979293 0.37329143 0.37690658 0.35848105\n",
      " 0.35999709 0.35754814 0.36069676 0.39299971 0.40372851 0.42168756\n",
      " 0.42122108 0.45282431 0.48967532 0.44361155 0.46133736 0.46075428\n",
      " 0.44034628 0.43719761 0.44955905 0.44302847 0.46740145 0.46798453\n",
      " 0.45142492 0.46005456 0.51171595 0.47836345 0.48967532 0.51253227\n",
      " 0.53608893 0.51428154 0.51568094 0.52337767 0.5140483  0.62378502\n",
      " 0.66086927 0.75089771 0.74448373 0.69142299 0.68104403 0.68442589\n",
      " 0.65865356 0.58868328 0.59941204 0.56337734 0.59218179 0.59614677\n",
      " 0.61877048 0.66914908 0.70506717 0.71906119 0.70978463 0.69818628\n",
      " 0.68898249 0.68247855 0.67740154 0.67258418 0.66748619 0.6620394\n",
      " 0.65639716 0.65075636 0.64527035 0.64002925 0.63506991 0.6303947\n",
      " 0.6259867  0.62182087 0.6178692  0.61410397]\n",
      "18 day output [[0.6104981]]\n",
      "19 day input [0.39404927 0.38961785 0.37807273 0.38996769 0.4159733  0.40781009\n",
      " 0.39101724 0.39101724 0.39719794 0.37060924 0.35334991 0.34670274\n",
      " 0.3512508  0.33842289 0.34437039 0.35941401 0.35393299 0.37119232\n",
      " 0.26553721 0.26775294 0.30180512 0.29923955 0.29632412 0.32081372\n",
      " 0.32163004 0.35918077 0.36023033 0.36058016 0.34716918 0.35393299\n",
      " 0.3574315  0.36979293 0.37329143 0.37690658 0.35848105 0.35999709\n",
      " 0.35754814 0.36069676 0.39299971 0.40372851 0.42168756 0.42122108\n",
      " 0.45282431 0.48967532 0.44361155 0.46133736 0.46075428 0.44034628\n",
      " 0.43719761 0.44955905 0.44302847 0.46740145 0.46798453 0.45142492\n",
      " 0.46005456 0.51171595 0.47836345 0.48967532 0.51253227 0.53608893\n",
      " 0.51428154 0.51568094 0.52337767 0.5140483  0.62378502 0.66086927\n",
      " 0.75089771 0.74448373 0.69142299 0.68104403 0.68442589 0.65865356\n",
      " 0.58868328 0.59941204 0.56337734 0.59218179 0.59614677 0.61877048\n",
      " 0.66914908 0.70506717 0.71906119 0.70978463 0.69818628 0.68898249\n",
      " 0.68247855 0.67740154 0.67258418 0.66748619 0.6620394  0.65639716\n",
      " 0.65075636 0.64527035 0.64002925 0.63506991 0.6303947  0.6259867\n",
      " 0.62182087 0.6178692  0.61410397 0.61049807]\n",
      "19 day output [[0.6070263]]\n",
      "20 day input [0.38961785 0.37807273 0.38996769 0.4159733  0.40781009 0.39101724\n",
      " 0.39101724 0.39719794 0.37060924 0.35334991 0.34670274 0.3512508\n",
      " 0.33842289 0.34437039 0.35941401 0.35393299 0.37119232 0.26553721\n",
      " 0.26775294 0.30180512 0.29923955 0.29632412 0.32081372 0.32163004\n",
      " 0.35918077 0.36023033 0.36058016 0.34716918 0.35393299 0.3574315\n",
      " 0.36979293 0.37329143 0.37690658 0.35848105 0.35999709 0.35754814\n",
      " 0.36069676 0.39299971 0.40372851 0.42168756 0.42122108 0.45282431\n",
      " 0.48967532 0.44361155 0.46133736 0.46075428 0.44034628 0.43719761\n",
      " 0.44955905 0.44302847 0.46740145 0.46798453 0.45142492 0.46005456\n",
      " 0.51171595 0.47836345 0.48967532 0.51253227 0.53608893 0.51428154\n",
      " 0.51568094 0.52337767 0.5140483  0.62378502 0.66086927 0.75089771\n",
      " 0.74448373 0.69142299 0.68104403 0.68442589 0.65865356 0.58868328\n",
      " 0.59941204 0.56337734 0.59218179 0.59614677 0.61877048 0.66914908\n",
      " 0.70506717 0.71906119 0.70978463 0.69818628 0.68898249 0.68247855\n",
      " 0.67740154 0.67258418 0.66748619 0.6620394  0.65639716 0.65075636\n",
      " 0.64527035 0.64002925 0.63506991 0.6303947  0.6259867  0.62182087\n",
      " 0.6178692  0.61410397 0.61049807 0.60702628]\n",
      "20 day output [[0.6036654]]\n",
      "21 day input [0.37807273 0.38996769 0.4159733  0.40781009 0.39101724 0.39101724\n",
      " 0.39719794 0.37060924 0.35334991 0.34670274 0.3512508  0.33842289\n",
      " 0.34437039 0.35941401 0.35393299 0.37119232 0.26553721 0.26775294\n",
      " 0.30180512 0.29923955 0.29632412 0.32081372 0.32163004 0.35918077\n",
      " 0.36023033 0.36058016 0.34716918 0.35393299 0.3574315  0.36979293\n",
      " 0.37329143 0.37690658 0.35848105 0.35999709 0.35754814 0.36069676\n",
      " 0.39299971 0.40372851 0.42168756 0.42122108 0.45282431 0.48967532\n",
      " 0.44361155 0.46133736 0.46075428 0.44034628 0.43719761 0.44955905\n",
      " 0.44302847 0.46740145 0.46798453 0.45142492 0.46005456 0.51171595\n",
      " 0.47836345 0.48967532 0.51253227 0.53608893 0.51428154 0.51568094\n",
      " 0.52337767 0.5140483  0.62378502 0.66086927 0.75089771 0.74448373\n",
      " 0.69142299 0.68104403 0.68442589 0.65865356 0.58868328 0.59941204\n",
      " 0.56337734 0.59218179 0.59614677 0.61877048 0.66914908 0.70506717\n",
      " 0.71906119 0.70978463 0.69818628 0.68898249 0.68247855 0.67740154\n",
      " 0.67258418 0.66748619 0.6620394  0.65639716 0.65075636 0.64527035\n",
      " 0.64002925 0.63506991 0.6303947  0.6259867  0.62182087 0.6178692\n",
      " 0.61410397 0.61049807 0.60702628 0.60366541]\n",
      "21 day output [[0.6003945]]\n",
      "22 day input [0.38996769 0.4159733  0.40781009 0.39101724 0.39101724 0.39719794\n",
      " 0.37060924 0.35334991 0.34670274 0.3512508  0.33842289 0.34437039\n",
      " 0.35941401 0.35393299 0.37119232 0.26553721 0.26775294 0.30180512\n",
      " 0.29923955 0.29632412 0.32081372 0.32163004 0.35918077 0.36023033\n",
      " 0.36058016 0.34716918 0.35393299 0.3574315  0.36979293 0.37329143\n",
      " 0.37690658 0.35848105 0.35999709 0.35754814 0.36069676 0.39299971\n",
      " 0.40372851 0.42168756 0.42122108 0.45282431 0.48967532 0.44361155\n",
      " 0.46133736 0.46075428 0.44034628 0.43719761 0.44955905 0.44302847\n",
      " 0.46740145 0.46798453 0.45142492 0.46005456 0.51171595 0.47836345\n",
      " 0.48967532 0.51253227 0.53608893 0.51428154 0.51568094 0.52337767\n",
      " 0.5140483  0.62378502 0.66086927 0.75089771 0.74448373 0.69142299\n",
      " 0.68104403 0.68442589 0.65865356 0.58868328 0.59941204 0.56337734\n",
      " 0.59218179 0.59614677 0.61877048 0.66914908 0.70506717 0.71906119\n",
      " 0.70978463 0.69818628 0.68898249 0.68247855 0.67740154 0.67258418\n",
      " 0.66748619 0.6620394  0.65639716 0.65075636 0.64527035 0.64002925\n",
      " 0.63506991 0.6303947  0.6259867  0.62182087 0.6178692  0.61410397\n",
      " 0.61049807 0.60702628 0.60366541 0.60039449]\n",
      "22 day output [[0.5971952]]\n",
      "23 day input [0.4159733  0.40781009 0.39101724 0.39101724 0.39719794 0.37060924\n",
      " 0.35334991 0.34670274 0.3512508  0.33842289 0.34437039 0.35941401\n",
      " 0.35393299 0.37119232 0.26553721 0.26775294 0.30180512 0.29923955\n",
      " 0.29632412 0.32081372 0.32163004 0.35918077 0.36023033 0.36058016\n",
      " 0.34716918 0.35393299 0.3574315  0.36979293 0.37329143 0.37690658\n",
      " 0.35848105 0.35999709 0.35754814 0.36069676 0.39299971 0.40372851\n",
      " 0.42168756 0.42122108 0.45282431 0.48967532 0.44361155 0.46133736\n",
      " 0.46075428 0.44034628 0.43719761 0.44955905 0.44302847 0.46740145\n",
      " 0.46798453 0.45142492 0.46005456 0.51171595 0.47836345 0.48967532\n",
      " 0.51253227 0.53608893 0.51428154 0.51568094 0.52337767 0.5140483\n",
      " 0.62378502 0.66086927 0.75089771 0.74448373 0.69142299 0.68104403\n",
      " 0.68442589 0.65865356 0.58868328 0.59941204 0.56337734 0.59218179\n",
      " 0.59614677 0.61877048 0.66914908 0.70506717 0.71906119 0.70978463\n",
      " 0.69818628 0.68898249 0.68247855 0.67740154 0.67258418 0.66748619\n",
      " 0.6620394  0.65639716 0.65075636 0.64527035 0.64002925 0.63506991\n",
      " 0.6303947  0.6259867  0.62182087 0.6178692  0.61410397 0.61049807\n",
      " 0.60702628 0.60366541 0.60039449 0.59719521]\n",
      "23 day output [[0.5940515]]\n",
      "24 day input [0.40781009 0.39101724 0.39101724 0.39719794 0.37060924 0.35334991\n",
      " 0.34670274 0.3512508  0.33842289 0.34437039 0.35941401 0.35393299\n",
      " 0.37119232 0.26553721 0.26775294 0.30180512 0.29923955 0.29632412\n",
      " 0.32081372 0.32163004 0.35918077 0.36023033 0.36058016 0.34716918\n",
      " 0.35393299 0.3574315  0.36979293 0.37329143 0.37690658 0.35848105\n",
      " 0.35999709 0.35754814 0.36069676 0.39299971 0.40372851 0.42168756\n",
      " 0.42122108 0.45282431 0.48967532 0.44361155 0.46133736 0.46075428\n",
      " 0.44034628 0.43719761 0.44955905 0.44302847 0.46740145 0.46798453\n",
      " 0.45142492 0.46005456 0.51171595 0.47836345 0.48967532 0.51253227\n",
      " 0.53608893 0.51428154 0.51568094 0.52337767 0.5140483  0.62378502\n",
      " 0.66086927 0.75089771 0.74448373 0.69142299 0.68104403 0.68442589\n",
      " 0.65865356 0.58868328 0.59941204 0.56337734 0.59218179 0.59614677\n",
      " 0.61877048 0.66914908 0.70506717 0.71906119 0.70978463 0.69818628\n",
      " 0.68898249 0.68247855 0.67740154 0.67258418 0.66748619 0.6620394\n",
      " 0.65639716 0.65075636 0.64527035 0.64002925 0.63506991 0.6303947\n",
      " 0.6259867  0.62182087 0.6178692  0.61410397 0.61049807 0.60702628\n",
      " 0.60366541 0.60039449 0.59719521 0.59405148]\n",
      "24 day output [[0.5909501]]\n",
      "25 day input [0.39101724 0.39101724 0.39719794 0.37060924 0.35334991 0.34670274\n",
      " 0.3512508  0.33842289 0.34437039 0.35941401 0.35393299 0.37119232\n",
      " 0.26553721 0.26775294 0.30180512 0.29923955 0.29632412 0.32081372\n",
      " 0.32163004 0.35918077 0.36023033 0.36058016 0.34716918 0.35393299\n",
      " 0.3574315  0.36979293 0.37329143 0.37690658 0.35848105 0.35999709\n",
      " 0.35754814 0.36069676 0.39299971 0.40372851 0.42168756 0.42122108\n",
      " 0.45282431 0.48967532 0.44361155 0.46133736 0.46075428 0.44034628\n",
      " 0.43719761 0.44955905 0.44302847 0.46740145 0.46798453 0.45142492\n",
      " 0.46005456 0.51171595 0.47836345 0.48967532 0.51253227 0.53608893\n",
      " 0.51428154 0.51568094 0.52337767 0.5140483  0.62378502 0.66086927\n",
      " 0.75089771 0.74448373 0.69142299 0.68104403 0.68442589 0.65865356\n",
      " 0.58868328 0.59941204 0.56337734 0.59218179 0.59614677 0.61877048\n",
      " 0.66914908 0.70506717 0.71906119 0.70978463 0.69818628 0.68898249\n",
      " 0.68247855 0.67740154 0.67258418 0.66748619 0.6620394  0.65639716\n",
      " 0.65075636 0.64527035 0.64002925 0.63506991 0.6303947  0.6259867\n",
      " 0.62182087 0.6178692  0.61410397 0.61049807 0.60702628 0.60366541\n",
      " 0.60039449 0.59719521 0.59405148 0.59095007]\n",
      "25 day output [[0.5878801]]\n",
      "26 day input [0.39101724 0.39719794 0.37060924 0.35334991 0.34670274 0.3512508\n",
      " 0.33842289 0.34437039 0.35941401 0.35393299 0.37119232 0.26553721\n",
      " 0.26775294 0.30180512 0.29923955 0.29632412 0.32081372 0.32163004\n",
      " 0.35918077 0.36023033 0.36058016 0.34716918 0.35393299 0.3574315\n",
      " 0.36979293 0.37329143 0.37690658 0.35848105 0.35999709 0.35754814\n",
      " 0.36069676 0.39299971 0.40372851 0.42168756 0.42122108 0.45282431\n",
      " 0.48967532 0.44361155 0.46133736 0.46075428 0.44034628 0.43719761\n",
      " 0.44955905 0.44302847 0.46740145 0.46798453 0.45142492 0.46005456\n",
      " 0.51171595 0.47836345 0.48967532 0.51253227 0.53608893 0.51428154\n",
      " 0.51568094 0.52337767 0.5140483  0.62378502 0.66086927 0.75089771\n",
      " 0.74448373 0.69142299 0.68104403 0.68442589 0.65865356 0.58868328\n",
      " 0.59941204 0.56337734 0.59218179 0.59614677 0.61877048 0.66914908\n",
      " 0.70506717 0.71906119 0.70978463 0.69818628 0.68898249 0.68247855\n",
      " 0.67740154 0.67258418 0.66748619 0.6620394  0.65639716 0.65075636\n",
      " 0.64527035 0.64002925 0.63506991 0.6303947  0.6259867  0.62182087\n",
      " 0.6178692  0.61410397 0.61049807 0.60702628 0.60366541 0.60039449\n",
      " 0.59719521 0.59405148 0.59095007 0.58788007]\n",
      "26 day output [[0.58483297]]\n",
      "27 day input [0.39719794 0.37060924 0.35334991 0.34670274 0.3512508  0.33842289\n",
      " 0.34437039 0.35941401 0.35393299 0.37119232 0.26553721 0.26775294\n",
      " 0.30180512 0.29923955 0.29632412 0.32081372 0.32163004 0.35918077\n",
      " 0.36023033 0.36058016 0.34716918 0.35393299 0.3574315  0.36979293\n",
      " 0.37329143 0.37690658 0.35848105 0.35999709 0.35754814 0.36069676\n",
      " 0.39299971 0.40372851 0.42168756 0.42122108 0.45282431 0.48967532\n",
      " 0.44361155 0.46133736 0.46075428 0.44034628 0.43719761 0.44955905\n",
      " 0.44302847 0.46740145 0.46798453 0.45142492 0.46005456 0.51171595\n",
      " 0.47836345 0.48967532 0.51253227 0.53608893 0.51428154 0.51568094\n",
      " 0.52337767 0.5140483  0.62378502 0.66086927 0.75089771 0.74448373\n",
      " 0.69142299 0.68104403 0.68442589 0.65865356 0.58868328 0.59941204\n",
      " 0.56337734 0.59218179 0.59614677 0.61877048 0.66914908 0.70506717\n",
      " 0.71906119 0.70978463 0.69818628 0.68898249 0.68247855 0.67740154\n",
      " 0.67258418 0.66748619 0.6620394  0.65639716 0.65075636 0.64527035\n",
      " 0.64002925 0.63506991 0.6303947  0.6259867  0.62182087 0.6178692\n",
      " 0.61410397 0.61049807 0.60702628 0.60366541 0.60039449 0.59719521\n",
      " 0.59405148 0.59095007 0.58788007 0.58483297]\n",
      "27 day output [[0.58180225]]\n",
      "28 day input [0.37060924 0.35334991 0.34670274 0.3512508  0.33842289 0.34437039\n",
      " 0.35941401 0.35393299 0.37119232 0.26553721 0.26775294 0.30180512\n",
      " 0.29923955 0.29632412 0.32081372 0.32163004 0.35918077 0.36023033\n",
      " 0.36058016 0.34716918 0.35393299 0.3574315  0.36979293 0.37329143\n",
      " 0.37690658 0.35848105 0.35999709 0.35754814 0.36069676 0.39299971\n",
      " 0.40372851 0.42168756 0.42122108 0.45282431 0.48967532 0.44361155\n",
      " 0.46133736 0.46075428 0.44034628 0.43719761 0.44955905 0.44302847\n",
      " 0.46740145 0.46798453 0.45142492 0.46005456 0.51171595 0.47836345\n",
      " 0.48967532 0.51253227 0.53608893 0.51428154 0.51568094 0.52337767\n",
      " 0.5140483  0.62378502 0.66086927 0.75089771 0.74448373 0.69142299\n",
      " 0.68104403 0.68442589 0.65865356 0.58868328 0.59941204 0.56337734\n",
      " 0.59218179 0.59614677 0.61877048 0.66914908 0.70506717 0.71906119\n",
      " 0.70978463 0.69818628 0.68898249 0.68247855 0.67740154 0.67258418\n",
      " 0.66748619 0.6620394  0.65639716 0.65075636 0.64527035 0.64002925\n",
      " 0.63506991 0.6303947  0.6259867  0.62182087 0.6178692  0.61410397\n",
      " 0.61049807 0.60702628 0.60366541 0.60039449 0.59719521 0.59405148\n",
      " 0.59095007 0.58788007 0.58483297 0.58180225]\n",
      "28 day output [[0.5787827]]\n",
      "29 day input [0.35334991 0.34670274 0.3512508  0.33842289 0.34437039 0.35941401\n",
      " 0.35393299 0.37119232 0.26553721 0.26775294 0.30180512 0.29923955\n",
      " 0.29632412 0.32081372 0.32163004 0.35918077 0.36023033 0.36058016\n",
      " 0.34716918 0.35393299 0.3574315  0.36979293 0.37329143 0.37690658\n",
      " 0.35848105 0.35999709 0.35754814 0.36069676 0.39299971 0.40372851\n",
      " 0.42168756 0.42122108 0.45282431 0.48967532 0.44361155 0.46133736\n",
      " 0.46075428 0.44034628 0.43719761 0.44955905 0.44302847 0.46740145\n",
      " 0.46798453 0.45142492 0.46005456 0.51171595 0.47836345 0.48967532\n",
      " 0.51253227 0.53608893 0.51428154 0.51568094 0.52337767 0.5140483\n",
      " 0.62378502 0.66086927 0.75089771 0.74448373 0.69142299 0.68104403\n",
      " 0.68442589 0.65865356 0.58868328 0.59941204 0.56337734 0.59218179\n",
      " 0.59614677 0.61877048 0.66914908 0.70506717 0.71906119 0.70978463\n",
      " 0.69818628 0.68898249 0.68247855 0.67740154 0.67258418 0.66748619\n",
      " 0.6620394  0.65639716 0.65075636 0.64527035 0.64002925 0.63506991\n",
      " 0.6303947  0.6259867  0.62182087 0.6178692  0.61410397 0.61049807\n",
      " 0.60702628 0.60366541 0.60039449 0.59719521 0.59405148 0.59095007\n",
      " 0.58788007 0.58483297 0.58180225 0.57878268]\n",
      "29 day output [[0.5757714]]\n",
      "[[0.7097846269607544], [0.6981862783432007], [0.6889824867248535], [0.6824785470962524], [0.6774015426635742], [0.6725841760635376], [0.6674861907958984], [0.6620393991470337], [0.6563971638679504], [0.6507563591003418], [0.6452703475952148], [0.64002925157547], [0.6350699067115784], [0.630394697189331], [0.6259866952896118], [0.621820867061615], [0.6178691983222961], [0.6141039729118347], [0.6104980707168579], [0.6070262789726257], [0.6036654114723206], [0.6003944873809814], [0.5971952080726624], [0.5940514802932739], [0.590950071811676], [0.5878800749778748], [0.5848329663276672], [0.581802248954773], [0.5787826776504517], [0.5757713913917542]]\n"
     ]
    }
   ],
   "source": [
    "# demonstrate prediction for next 30 days\n",
    "\n",
    "lst_output=[]\n",
    "n_steps=100\n",
    "i=0\n",
    "while(i<30):\n",
    "    \n",
    "    if(len(temp_input)>100):\n",
    "        #print(temp_input)\n",
    "        x_input=np.array(temp_input[1:])\n",
    "        print(\"{} day input {}\".format(i,x_input))\n",
    "        x_input=x_input.reshape(1,-1)\n",
    "        x_input = x_input.reshape((1, n_steps, 1))\n",
    "        #print(x_input)\n",
    "        yhat = model.predict(x_input, verbose=0)\n",
    "        print(\"{} day output {}\".format(i,yhat))\n",
    "        temp_input.extend(yhat[0].tolist())\n",
    "        temp_input=temp_input[1:]\n",
    "        #print(temp_input)\n",
    "        lst_output.extend(yhat.tolist())\n",
    "        i=i+1\n",
    "    else:\n",
    "        x_input = x_input.reshape((1, n_steps,1))\n",
    "        yhat = model.predict(x_input, verbose=0)\n",
    "        print(yhat[0])\n",
    "        temp_input.extend(yhat[0].tolist())\n",
    "        print(len(temp_input))\n",
    "        lst_output.extend(yhat.tolist())\n",
    "        i=i+1\n",
    "    \n",
    "\n",
    "print(lst_output)"
   ]
  },
  {
   "cell_type": "code",
   "execution_count": 89,
   "metadata": {},
   "outputs": [],
   "source": [
    "day_new = np.arange(1,1 + time_step)\n",
    "day_pred = np.arange(1 + time_step,30 + 1 + time_step)"
   ]
  },
  {
   "cell_type": "code",
   "execution_count": 91,
   "metadata": {},
   "outputs": [
    {
     "data": {
      "text/plain": [
       "[<matplotlib.lines.Line2D at 0x7fcc9835a5b0>]"
      ]
     },
     "execution_count": 91,
     "metadata": {},
     "output_type": "execute_result"
    },
    {
     "data": {
      "image/png": "[encoded data removed]",
      "text/plain": [
       "<Figure size 432x288 with 1 Axes>"
      ]
     },
     "metadata": {},
     "output_type": "display_data"
    }
   ],
   "source": [
    "plt.plot(day_new,scaler.inverse_transform(scaled_Adj[len(scaled_Adj) - 100:]))\n",
    "plt.plot(day_pred,scaler.inverse_transform(lst_output))"
   ]
  }
 ],
 "metadata": {
  "kernelspec": {
   "display_name": "Python 3",
   "language": "python",
   "name": "python3"
  },
  "language_info": {
   "codemirror_mode": {
    "name": "ipython",
    "version": 3
   },
   "file_extension": ".py",
   "mimetype": "text/x-python",
   "name": "python",
   "nbconvert_exporter": "python",
   "pygments_lexer": "ipython3",
   "version": "3.8.6"
  }
 },
 "nbformat": 4,
 "nbformat_minor": 4
}
